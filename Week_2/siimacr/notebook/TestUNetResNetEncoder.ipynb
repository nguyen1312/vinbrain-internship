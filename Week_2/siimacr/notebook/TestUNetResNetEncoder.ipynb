{
  "nbformat": 4,
  "nbformat_minor": 0,
  "metadata": {
    "colab": {
      "name": "TestUNetResNetEncoder.ipynb",
      "provenance": [],
      "collapsed_sections": [],
      "machine_shape": "hm"
    },
    "kernelspec": {
      "name": "python3",
      "display_name": "Python 3"
    },
    "language_info": {
      "name": "python"
    },
    "accelerator": "GPU"
  },
  "cells": [
    {
      "cell_type": "code",
      "metadata": {
        "colab": {
          "base_uri": "https://localhost:8080/"
        },
        "id": "WlnnuuzzSCsc",
        "outputId": "951f7dfd-7dfe-4f04-8189-dd845259727a"
      },
      "source": [
        "from google.colab import drive\n",
        "drive.mount(\"/content/gdrive\")"
      ],
      "execution_count": null,
      "outputs": [
        {
          "output_type": "stream",
          "text": [
            "Drive already mounted at /content/gdrive; to attempt to forcibly remount, call drive.mount(\"/content/gdrive\", force_remount=True).\n"
          ],
          "name": "stdout"
        }
      ]
    },
    {
      "cell_type": "code",
      "metadata": {
        "colab": {
          "base_uri": "https://localhost:8080/"
        },
        "id": "qcffdBTPSO98",
        "outputId": "c03bb88d-2868-482b-cba5-c7180adc8faa"
      },
      "source": [
        "cd \"gdrive/My Drive/Colab Notebooks/VinBrain_Intern/W2/1.SIIM-UNet\""
      ],
      "execution_count": null,
      "outputs": [
        {
          "output_type": "stream",
          "text": [
            "/content/gdrive/My Drive/Colab Notebooks/VinBrain_Intern/W2/1.SIIM-UNet\n"
          ],
          "name": "stdout"
        }
      ]
    },
    {
      "cell_type": "code",
      "metadata": {
        "colab": {
          "base_uri": "https://localhost:8080/"
        },
        "id": "VIaPUuP-SPas",
        "outputId": "94ab574f-ac2e-4498-cac0-2e2dd7806527"
      },
      "source": [
        "!pip install pydicom"
      ],
      "execution_count": null,
      "outputs": [
        {
          "output_type": "stream",
          "text": [
            "Requirement already satisfied: pydicom in /usr/local/lib/python3.7/dist-packages (2.1.2)\n"
          ],
          "name": "stdout"
        }
      ]
    },
    {
      "cell_type": "code",
      "metadata": {
        "id": "MAOMRTJSSSIG"
      },
      "source": [
        "import torch\n",
        "import numpy as np \n",
        "import pandas as pd \n",
        "import pydicom, cv2\n",
        "from glob import glob\n",
        "from tqdm import tqdm\n",
        "import matplotlib.pyplot as plt\n",
        "import albumentations as A\n",
        "import time\n",
        "from torch.nn import functional as F\n",
        "from sklearn.model_selection import StratifiedKFold\n",
        "from torch.utils.data import Dataset, DataLoader\n",
        "from albumentations.pytorch import ToTensor\n",
        "import torchvision\n",
        "import torch.nn as nn\n",
        "import torch.optim as optim"
      ],
      "execution_count": null,
      "outputs": []
    },
    {
      "cell_type": "code",
      "metadata": {
        "id": "5P6ydEiwSSjx"
      },
      "source": [
        "df = pd.read_csv('preprocessing_data.csv')"
      ],
      "execution_count": null,
      "outputs": []
    },
    {
      "cell_type": "code",
      "metadata": {
        "id": "5tv5d2LnSVoe"
      },
      "source": [
        "# decode rle into mask of XRays Image\n",
        "def run_length_decode(rle, height = 1024, width = 1024, fill_value = 1):\n",
        "    if rle == \"-1\": \n",
        "      return np.zeros((height, width), np.float32) # negative case\n",
        "    # init mask matrix\n",
        "    component = np.zeros((height, width), np.float32)\n",
        "    # flatten init matrix into list\n",
        "    component = component.reshape(-1)\n",
        "    # processing rle\n",
        "    rle = rle[1: -1] # ignore character \"[\", \"]\"\n",
        "    # get all value from rle, store in tempString\n",
        "    tempString = []\n",
        "    for eachRLE in rle.split(','):\n",
        "      s = eachRLE.replace('\\'', '')\n",
        "      tempString.extend([int(s) for s in s.strip().split(\" \")])\n",
        "    # convert into numpy array  \n",
        "    rle = np.asarray(tempString)\n",
        "    # convert rle into mask\n",
        "    rle = rle.reshape(-1, 2)\n",
        "    start = 0\n",
        "    for index, length in rle:\n",
        "        start = start + index\n",
        "        end = start + length\n",
        "        component[start: end] = fill_value # value in rle is idx of pixel 1 in matrix we want\n",
        "        start = end\n",
        "    # reshape into mask matrix with shape (width, height)\n",
        "    component = component.reshape(width, height).T\n",
        "    return component"
      ],
      "execution_count": null,
      "outputs": []
    },
    {
      "cell_type": "code",
      "metadata": {
        "id": "Y2EXjwR8SYAR"
      },
      "source": [
        "# return mask, image from .dcm and rle\n",
        "def getMaskAndImg(dataframe, idx):\n",
        "    ds = pydicom.dcmread(dataframe[\"filepath\"][idx])\n",
        "    img = ds.pixel_array # img is 2-D matrix\n",
        "    mask = run_length_decode(dataframe[\"EncodedPixels\"][idx]) # convert rle into mask\n",
        "    img = np.stack((img, ) * 3, axis=-1) # get matrix shape (width, height, 3)\n",
        "    return img, mask"
      ],
      "execution_count": null,
      "outputs": []
    },
    {
      "cell_type": "code",
      "metadata": {
        "id": "nhfvus9qSZzg"
      },
      "source": [
        "# transform image, by albumentation\n",
        "class ImageTransform():\n",
        "    def __init__(self, size, mean, std):\n",
        "      self.transform = {\n",
        "          \"train\": A.Compose([\n",
        "                        A.HorizontalFlip(p=0.5),\n",
        "                        A.ShiftScaleRotate(\n",
        "                          shift_limit = 0,\n",
        "                          scale_limit = 0.1,\n",
        "                          rotate_limit = 10,\n",
        "                          p = 0.5,\n",
        "                          border_mode = cv2.BORDER_CONSTANT   \n",
        "                        ),\n",
        "                        A.GaussNoise(),\n",
        "                        A.Resize(size, size),\n",
        "                        A.Normalize(mean=mean, std=std, p = 1),\n",
        "                        ToTensor()\n",
        "                    ]),\n",
        "          \"val\": A.Compose([\n",
        "                        A.Resize(size, size), \n",
        "                        A.Normalize(mean=mean, std=std, p = 1),\n",
        "                        ToTensor()\n",
        "                  ])\n",
        "      }\n",
        "    def __call__(self, image, mask, phase):\n",
        "      return self.transform[phase](image = image, mask = mask)"
      ],
      "execution_count": null,
      "outputs": []
    },
    {
      "cell_type": "code",
      "metadata": {
        "id": "tm5hO0T6ScC5"
      },
      "source": [
        "# SIIM ACR\n",
        "class SIIMDataset(Dataset):\n",
        "    def __init__(self, dataframe, fnames, size, mean, std, phase = \"train\"):\n",
        "        self.dataframe = dataframe\n",
        "        self.fnames = fnames\n",
        "        self.phase = phase\n",
        "        self.transforms = ImageTransform(size, mean, std)\n",
        "\n",
        "    def __getitem__(self, idx):\n",
        "        image_id = self.fnames[idx]\n",
        "        indice_inDataFrame = self.dataframe.index[self.dataframe['UID'] == image_id].tolist()[0]\n",
        "        image, mask = getMaskAndImg(self.dataframe, indice_inDataFrame) # img, mask are arrays\n",
        "        augmentedData = self.transforms(image = image, mask = mask, phase = self.phase)\n",
        "        image = augmentedData['image']\n",
        "        mask = augmentedData['mask']\n",
        "        return image, mask \n",
        "    def __len__(self):\n",
        "        return len(self.fnames)"
      ],
      "execution_count": null,
      "outputs": []
    },
    {
      "cell_type": "code",
      "metadata": {
        "id": "eps4UXBmSf4d"
      },
      "source": [
        "# sampled dataset\n",
        "def sampledDataset(df, fold):\n",
        "    df_positiveCase = df[df[\"Pneumothorax\"] == 1]\n",
        "    df_negativeCase = df[df[\"Pneumothorax\"] == 0]\n",
        "    df_negativeCase_sampled = df_negativeCase.sample(len(df_positiveCase) + 1000, random_state = 2019)\n",
        "    newSub_Dataframe = pd.concat([df_positiveCase, df_negativeCase_sampled])\n",
        "    kfold = StratifiedKFold(n_splits = 5, random_state = 43, shuffle = True)\n",
        "    df_split = newSub_Dataframe\n",
        "    # k_fold validation\n",
        "    train_idx, val_idx = list(kfold.split(X = df_split[\"UID\"], y = df_split[\"Pneumothorax\"]))[fold]\n",
        "    train_df, val_df = df_split.iloc[train_idx], df_split.iloc[val_idx]\n",
        "    f_names_datatrain = train_df.iloc[:, 0].values.tolist()\n",
        "    f_names_dataval = val_df.iloc[:, 0].values.tolist()\n",
        "    size = 512\n",
        "    mean = (0.485, 0.456, 0.406)\n",
        "    std = (0.229, 0.224, 0.225)\n",
        "    train_dataset = SIIMDataset(train_df, f_names_datatrain, size, mean, std, phase = \"train\")\n",
        "    val_dataset = SIIMDataset(val_df, f_names_dataval, size, mean, std, phase = \"val\")\n",
        "    return {\n",
        "          \"train\": DataLoader(train_dataset, batch_size = 4, shuffle = True, num_workers = 4),\n",
        "          \"val\":  DataLoader(val_dataset, batch_size = 4, shuffle = False, num_workers = 4)\n",
        "      }"
      ],
      "execution_count": null,
      "outputs": []
    },
    {
      "cell_type": "code",
      "metadata": {
        "id": "tA74uP3MSgUr"
      },
      "source": [
        "def predict(X, threshold):\n",
        "    X_p = np.copy(X)\n",
        "    preds = (X_p > threshold).astype('uint8')\n",
        "    return preds"
      ],
      "execution_count": null,
      "outputs": []
    },
    {
      "cell_type": "code",
      "metadata": {
        "id": "TBLJ0ZqpDlqh"
      },
      "source": [
        "def epoch_log(phase, epoch, epoch_loss, meter, start):\n",
        "    '''logging the metrics at the end of an epoch'''\n",
        "    dices, iou = meter.get_metrics()\n",
        "    dice, dice_neg, dice_pos = dices\n",
        "    print(\"Loss: %0.4f | dice: %0.4f | dice_neg: %0.4f | dice_pos: %0.4f | IoU: %0.4f\" % (epoch_loss, dice, dice_neg, dice_pos, iou))\n",
        "    return dice, iou"
      ],
      "execution_count": null,
      "outputs": []
    },
    {
      "cell_type": "code",
      "metadata": {
        "id": "8f1-QY-ADgHG"
      },
      "source": [
        "def compute_ious(pred, label, classes, ignore_index=255, only_present=True):\n",
        "    '''computes iou for one ground truth mask and predicted mask'''\n",
        "    pred[label == ignore_index] = 0\n",
        "    ious = []\n",
        "    for c in classes:\n",
        "        label_c = label == c\n",
        "        if only_present and np.sum(label_c) == 0:\n",
        "            ious.append(np.nan)\n",
        "            continue\n",
        "        pred_c = pred == c\n",
        "        intersection = np.logical_and(pred_c, label_c).sum()\n",
        "        union = np.logical_or(pred_c, label_c).sum()\n",
        "        if union != 0:\n",
        "            ious.append(intersection / union)\n",
        "    return ious if ious else [1]"
      ],
      "execution_count": null,
      "outputs": []
    },
    {
      "cell_type": "code",
      "metadata": {
        "id": "tU34CPt_Dh40"
      },
      "source": [
        "def compute_iou_batch(outputs, labels, classes=None):\n",
        "    '''computes mean iou for a batch of ground truth masks and predicted masks'''\n",
        "    ious = []\n",
        "    preds = np.copy(outputs) # copy is imp\n",
        "    labels = np.array(labels) # tensor to np\n",
        "    for pred, label in zip(preds, labels):\n",
        "        ious.append(np.nanmean(compute_ious(pred, label, classes)))\n",
        "    iou = np.nanmean(ious)\n",
        "    return iou"
      ],
      "execution_count": null,
      "outputs": []
    },
    {
      "cell_type": "code",
      "metadata": {
        "id": "k89uBxTxDYZ8"
      },
      "source": [
        "def metric(probability, truth, threshold = 0.5, reduction = 'none'):\n",
        "    '''Calculates dice of positive and negative images seperately'''\n",
        "    '''probability and truth must be torch tensors'''\n",
        "    batch_size = len(truth)\n",
        "    with torch.no_grad():\n",
        "        probability = probability.view(batch_size, -1)\n",
        "        truth = truth.view(batch_size, -1)\n",
        "        assert(probability.shape == truth.shape)\n",
        "        p = (probability > threshold).float()\n",
        "        t = (truth > 0.5).float()\n",
        "\n",
        "        t_sum = t.sum(-1)\n",
        "        p_sum = p.sum(-1)\n",
        "        neg_index = torch.nonzero(t_sum == 0)\n",
        "        pos_index = torch.nonzero(t_sum >= 1)\n",
        "\n",
        "        dice_neg = (p_sum == 0).float()\n",
        "        dice_pos = 2 * (p*t).sum(-1)/((p+t).sum(-1))\n",
        "\n",
        "        dice_neg = dice_neg[neg_index]\n",
        "        dice_pos = dice_pos[pos_index]\n",
        "        dice = torch.cat([dice_pos, dice_neg])\n",
        "\n",
        "        dice_neg = np.nan_to_num(dice_neg.mean().item(), 0)\n",
        "        dice_pos = np.nan_to_num(dice_pos.mean().item(), 0)\n",
        "        dice = dice.mean().item()\n",
        "\n",
        "        num_neg = len(neg_index)\n",
        "        num_pos = len(pos_index)\n",
        "\n",
        "    return dice, dice_neg, dice_pos, num_neg, num_pos"
      ],
      "execution_count": null,
      "outputs": []
    },
    {
      "cell_type": "code",
      "metadata": {
        "id": "YDI-qoB4DoqL"
      },
      "source": [
        "class Meter:\n",
        "    '''A meter to keep track of iou and dice scores throughout an epoch'''\n",
        "    def __init__(self, phase, epoch):\n",
        "        self.base_threshold = 0.5 # <<<<<<<<<<< here's the threshold\n",
        "        self.base_dice_scores = []\n",
        "        self.dice_neg_scores = []\n",
        "        self.dice_pos_scores = []\n",
        "        self.iou_scores = []\n",
        "\n",
        "    def update(self, targets, outputs):\n",
        "        probs = torch.sigmoid(outputs)\n",
        "        dice, dice_neg, dice_pos, _, _ = metric(probs, targets, self.base_threshold)\n",
        "        self.base_dice_scores.append(dice)\n",
        "        self.dice_pos_scores.append(dice_pos)\n",
        "        self.dice_neg_scores.append(dice_neg)\n",
        "        preds = predict(probs, self.base_threshold)\n",
        "        iou = compute_iou_batch(preds, targets, classes=[1])\n",
        "        self.iou_scores.append(iou)\n",
        "\n",
        "    def get_metrics(self):\n",
        "        dice = np.mean(self.base_dice_scores)\n",
        "        dice_neg = np.mean(self.dice_neg_scores)\n",
        "        dice_pos = np.mean(self.dice_pos_scores)\n",
        "        dices = [dice, dice_neg, dice_pos]\n",
        "        iou = np.nanmean(self.iou_scores)\n",
        "        return dices, iou"
      ],
      "execution_count": null,
      "outputs": []
    },
    {
      "cell_type": "code",
      "metadata": {
        "id": "Rl7aC4wtDbiq"
      },
      "source": [
        "def dice_loss(input, target):\n",
        "    input = torch.sigmoid(input)\n",
        "    smooth = 1.0\n",
        "    iflat = input.view(-1)\n",
        "    tflat = target.view(-1)\n",
        "    intersection = (iflat * tflat).sum()\n",
        "    return ((2.0 * intersection + smooth) / (iflat.sum() + tflat.sum() + smooth))"
      ],
      "execution_count": null,
      "outputs": []
    },
    {
      "cell_type": "code",
      "metadata": {
        "id": "_h8kxPy5Slmv"
      },
      "source": [
        "class FocalLoss(nn.Module):\n",
        "    def __init__(self, gamma):\n",
        "        super().__init__()\n",
        "        self.gamma = gamma\n",
        "    def forward(self, input, target):\n",
        "        if not (target.size() == input.size()):\n",
        "            raise ValueError(\"Target size ({}) must be the same as input size ({})\"\n",
        "                             .format(target.size(), input.size()))\n",
        "        max_val = (-input).clamp(min = 0)\n",
        "        loss = input - input * target + max_val + \\\n",
        "            ((-max_val).exp() + (-input - max_val).exp()).log()\n",
        "        invprobs = F.logsigmoid(-input * (target * 2.0 - 1.0))\n",
        "        loss = (invprobs * self.gamma).exp() * loss\n",
        "        return loss.mean()"
      ],
      "execution_count": null,
      "outputs": []
    },
    {
      "cell_type": "code",
      "metadata": {
        "id": "aarefz8_Snhe"
      },
      "source": [
        "class MixedLoss(nn.Module):\n",
        "    def __init__(self, alpha, gamma):\n",
        "        super().__init__()\n",
        "        self.alpha = alpha\n",
        "        self.focal = FocalLoss(gamma)\n",
        "    def forward(self, input, target):\n",
        "        loss = self.alpha * self.focal(input, target) - torch.log(dice_loss(input, target))\n",
        "        return loss.mean()"
      ],
      "execution_count": null,
      "outputs": []
    },
    {
      "cell_type": "code",
      "metadata": {
        "id": "PplW258UVbMD"
      },
      "source": [
        "dataloader = sampledDataset(df, 2)\n",
        "train_dataloader = dataloader[\"train\"]\n",
        "img, mask = next(iter(train_dataloader))"
      ],
      "execution_count": null,
      "outputs": []
    },
    {
      "cell_type": "code",
      "metadata": {
        "id": "Q25Xkjl4DsiZ"
      },
      "source": [
        "resnet = torchvision.models.resnet.resnet50(pretrained=True)"
      ],
      "execution_count": null,
      "outputs": []
    },
    {
      "cell_type": "code",
      "metadata": {
        "id": "_j-XdQDsJKvN"
      },
      "source": [
        "class ConvBlock(nn.Module):\n",
        "    def __init__(self, chan_in, \n",
        "                       chan_out, \n",
        "                       padding = 1, \n",
        "                       kernel_size = 3, \n",
        "                       stride = 1\n",
        "                ):\n",
        "        super().__init__()\n",
        "        self.conv = nn.Conv2d(chan_in, \n",
        "                              chan_out, \n",
        "                              padding = padding, \n",
        "                              kernel_size = kernel_size, \n",
        "                              stride = stride)\n",
        "        self.bn = nn.BatchNorm2d(chan_out)\n",
        "        self.relu = nn.ReLU()\n",
        "\n",
        "    def forward(self, x):\n",
        "        x = self.conv(x)\n",
        "        x = self.bn(x)\n",
        "        x = self.relu(x)\n",
        "        return x"
      ],
      "execution_count": null,
      "outputs": []
    },
    {
      "cell_type": "code",
      "metadata": {
        "id": "jjGT4fb4D4_J"
      },
      "source": [
        "class Bridge(nn.Module):\n",
        "    def __init__(self, chan_in, chan_out):\n",
        "        super().__init__()\n",
        "        self.bridge = nn.Sequential(\n",
        "            ConvBlock(chan_in, chan_out),\n",
        "            ConvBlock(chan_out, chan_out)\n",
        "        )\n",
        "\n",
        "    def forward(self, x):\n",
        "        return self.bridge(x)"
      ],
      "execution_count": null,
      "outputs": []
    },
    {
      "cell_type": "code",
      "metadata": {
        "id": "41i0nzmiD8t9"
      },
      "source": [
        "class UpBlock(nn.Module):    \n",
        "    def __init__(self, chan_in, \n",
        "                       chan_out, \n",
        "                       upconv_in = None, \n",
        "                       upconv_out = None,\n",
        "                ):\n",
        "        super().__init__()\n",
        "        if upconv_in == None:\n",
        "            upconv_in = chan_in\n",
        "        if upconv_out == None:\n",
        "            upconv_out = chan_out\n",
        "        self.upsample = nn.ConvTranspose2d(upconv_in, upconv_out, kernel_size = 2, stride = 2)\n",
        "        self.conv = nn.Sequential(ConvBlock(chan_in, chan_out),\n",
        "                                  ConvBlock(chan_out, chan_out))\n",
        "\n",
        "    def forward(self, x1, x2):\n",
        "        x1 = self.upsample(x1)\n",
        "        x1 = torch.cat([x1, x2], 1)\n",
        "        x1 = self.conv(x1)\n",
        "        return x1"
      ],
      "execution_count": null,
      "outputs": []
    },
    {
      "cell_type": "code",
      "metadata": {
        "id": "peCoZMTWEBCk"
      },
      "source": [
        "class UNet(nn.Module):\n",
        "    def __init__(self):\n",
        "        super().__init__()\n",
        "        resnet = torchvision.models.resnet.resnet50(pretrained = True)\n",
        "        # conv -> batchnorm -> reLU\n",
        "        self.module0 = nn.Sequential(*list(resnet.children()))[:3] \n",
        "        # max pool layer in resnet\n",
        "        self.module0pool = list(resnet.children())[3] \n",
        "        # collect bottleneck in resnet to use as block module in Unet\n",
        "        encoder = []\n",
        "        # there are 4 module nn.Sequential in Resnet50\n",
        "        for module in list(resnet.children()):\n",
        "            if isinstance(module, nn.Sequential):\n",
        "                encoder.append(module)\n",
        "        self.encoder = nn.ModuleList(encoder)\n",
        "        self.bridge = Bridge(2048, 2048)\n",
        "\n",
        "        self.decoder = nn.ModuleList([\n",
        "            UpBlock(2048, 1024),\n",
        "            UpBlock(1024, 512),\n",
        "            UpBlock(512, 256),\n",
        "            UpBlock(192, 128, 256, 128),\n",
        "            UpBlock(67, 64, 128, 64)\n",
        "        ])\n",
        "        self.outLayer = nn.Conv2d(64, 1, kernel_size = 1, stride = 1)\n",
        "\n",
        "    def forward(self, x):\n",
        "        tempStorage = dict()\n",
        "        tempStorage[\"t_0\"] = x\n",
        "        # x.size(): 3x512x512\n",
        "        x = self.module0(x)\n",
        "        # x.size(): 64x256x256\n",
        "        tempStorage[\"t_1\"] = x\n",
        "        x = self.module0pool(x)\n",
        "        # x.size():64x128x128\n",
        "        for idx, module in enumerate(self.encoder, start = 2):\n",
        "            x = module(x)\n",
        "            # 2, 3, 4, 5\n",
        "            if idx == 5: \n",
        "                continue\n",
        "            tempStorage[f\"t_{idx}\"] = x\n",
        "\n",
        "        x = self.bridge(x)\n",
        "\n",
        "        for idx, module in enumerate(self.decoder, start = 1):\n",
        "            match_indice = 5 - idx\n",
        "            temp_key = f\"t_{match_indice}\"\n",
        "            x = module(x, tempStorage[temp_key])\n",
        "        x = self.outLayer(x)\n",
        "        return x"
      ],
      "execution_count": null,
      "outputs": []
    },
    {
      "cell_type": "code",
      "metadata": {
        "id": "owV97ZxuruN0"
      },
      "source": [
        "model = UNet()\n",
        "fold = 2\n",
        "total_folds = 5\n",
        "lr = 5e-4\n",
        "num_epochs = 20\n",
        "best_loss = float(\"inf\")\n",
        "device = torch.device(\"cuda:0\")\n",
        "torch.set_default_tensor_type(\"torch.cuda.FloatTensor\")\n",
        "criterion = MixedLoss(0.3, 3.5)\n",
        "optimizer = optim.Adam( model.parameters(), lr = lr)\n",
        "model_path = './model_epoch59_v3.pth'\n",
        "state_dict = torch.load(model_path, map_location='cpu')\n",
        "model.load_state_dict(state_dict[\"state_dict\"])\n",
        "model.to(device = device)\n",
        "accumulation_steps = 32 // 4\n",
        "best_loss = state_dict[\"best_loss\"]"
      ],
      "execution_count": null,
      "outputs": []
    },
    {
      "cell_type": "code",
      "metadata": {
        "id": "QX906jXSr0nR"
      },
      "source": [
        "losses = {phase: [] for phase in [\"train\", \"val\"]}\n",
        "iou_scores = {phase: [] for phase in [\"train\", \"val\"]}\n",
        "dice_scores = {phase: [] for phase in [\"train\", \"val\"]}"
      ],
      "execution_count": null,
      "outputs": []
    },
    {
      "cell_type": "code",
      "metadata": {
        "colab": {
          "base_uri": "https://localhost:8080/"
        },
        "id": "bzJUK7oNr3Gr",
        "outputId": "57384050-5143-4679-8a10-d9a5754e9433"
      },
      "source": [
        "for epoch in range(num_epochs):\n",
        "    meter = Meter(\"train\", epoch)\n",
        "    start = time.strftime(\"%H:%M:%S\")\n",
        "    model.train(True)\n",
        "    running_loss = 0.0\n",
        "    optimizer.zero_grad()\n",
        "    dataloader = sampledDataset(df, 2)\n",
        "    train_dataloader = dataloader[\"train\"]\n",
        "    val_dataloader = dataloader[\"val\"]\n",
        "    total_batches = len(train_dataloader)\n",
        "    for itr, batch in enumerate(train_dataloader):\n",
        "        images, targets = batch\n",
        "        images = images.to(device)\n",
        "        masks = targets.to(device)\n",
        "        outputs = model(images)\n",
        "        loss = criterion(outputs, masks)\n",
        "        loss = loss / accumulation_steps    \n",
        "        loss.backward()\n",
        "        if (itr + 1 ) % accumulation_steps == 0:\n",
        "            optimizer.step()\n",
        "            optimizer.zero_grad()\n",
        "        running_loss += loss.item()\n",
        "        outputs = outputs.detach().cpu()\n",
        "        meter.update(targets, outputs)\n",
        "\n",
        "    epoch_loss = (running_loss * accumulation_steps) / total_batches\n",
        "    dice, iou = epoch_log(\"train\", epoch, epoch_loss, meter, start)\n",
        "    losses[\"train\"].append(epoch_loss)\n",
        "    dice_scores[\"train\"].append(dice)\n",
        "    iou_scores[\"train\"].append(iou)\n",
        "    torch.cuda.empty_cache()\n",
        "\n",
        "    meter = Meter(\"val\", epoch)\n",
        "    start = time.strftime(\"%H:%M:%S\")\n",
        "    model.train(False)\n",
        "    running_loss = 0.0\n",
        "    total_batches = len(val_dataloader)\n",
        "    optimizer.zero_grad()\n",
        "    for itr, batch in enumerate(val_dataloader):\n",
        "        images, targets = batch\n",
        "        images = images.to(device)\n",
        "        masks = targets.to(device)\n",
        "        with torch.no_grad():\n",
        "            outputs = model(images)\n",
        "            loss = criterion(outputs, masks)\n",
        "            loss = loss / accumulation_steps    \n",
        "            running_loss += loss.item()\n",
        "            outputs = outputs.detach().cpu()\n",
        "            meter.update(targets, outputs)\n",
        "\n",
        "    epoch_loss = (running_loss * accumulation_steps) / total_batches\n",
        "    dice, iou = epoch_log(\"val\", epoch, epoch_loss, meter, start)\n",
        "    losses[\"val\"].append(epoch_loss)\n",
        "    dice_scores[\"val\"].append(dice)\n",
        "    iou_scores[\"val\"].append(iou)\n",
        "    torch.cuda.empty_cache()\n",
        "    if epoch_loss < best_loss:\n",
        "        print(\"-------OH YEAH---------\")\n",
        "        best_loss = epoch_loss\n",
        "        state = {\n",
        "                \"epoch\": epoch,\n",
        "                \"best_loss\": best_loss,\n",
        "                \"state_dict\": model.state_dict(),\n",
        "                \"optimizer\": optimizer.state_dict(),\n",
        "        }\n",
        "        print(\"-----------------------\")\n",
        "        torch.save(state, \"./model_v3_1.pth\")\n",
        "    print()"
      ],
      "execution_count": null,
      "outputs": [
        {
          "output_type": "stream",
          "text": [
            "/usr/local/lib/python3.7/dist-packages/ipykernel_launcher.py:94: RuntimeWarning: Mean of empty slice\n",
            "/usr/local/lib/python3.7/dist-packages/ipykernel_launcher.py:95: RuntimeWarning: Mean of empty slice\n"
          ],
          "name": "stderr"
        },
        {
          "output_type": "stream",
          "text": [
            "Loss: 1.9932 | dice: 0.5545 | dice_neg: 0.6465 | dice_pos: 0.3665 | IoU: 0.2980\n",
            "Loss: 4.5928 | dice: 0.4415 | dice_neg: 0.2800 | dice_pos: 0.1633 | IoU: 0.2770\n",
            "-------OH YEAH---------\n",
            "-----------------------\n",
            "\n"
          ],
          "name": "stdout"
        },
        {
          "output_type": "stream",
          "text": [
            "/usr/local/lib/python3.7/dist-packages/ipykernel_launcher.py:94: RuntimeWarning: Mean of empty slice\n",
            "/usr/local/lib/python3.7/dist-packages/ipykernel_launcher.py:95: RuntimeWarning: Mean of empty slice\n"
          ],
          "name": "stderr"
        },
        {
          "output_type": "stream",
          "text": [
            "Loss: 2.0476 | dice: 0.5460 | dice_neg: 0.6311 | dice_pos: 0.3719 | IoU: 0.3034\n",
            "Loss: 3.9604 | dice: 0.5708 | dice_neg: 0.4148 | dice_pos: 0.1578 | IoU: 0.2727\n",
            "-------OH YEAH---------\n",
            "-----------------------\n",
            "\n"
          ],
          "name": "stdout"
        },
        {
          "output_type": "stream",
          "text": [
            "/usr/local/lib/python3.7/dist-packages/ipykernel_launcher.py:94: RuntimeWarning: Mean of empty slice\n",
            "/usr/local/lib/python3.7/dist-packages/ipykernel_launcher.py:95: RuntimeWarning: Mean of empty slice\n"
          ],
          "name": "stderr"
        },
        {
          "output_type": "stream",
          "text": [
            "Loss: 1.9854 | dice: 0.5490 | dice_neg: 0.6281 | dice_pos: 0.3664 | IoU: 0.3026\n",
            "Loss: 3.3158 | dice: 0.6186 | dice_neg: 0.4913 | dice_pos: 0.1292 | IoU: 0.2166\n",
            "-------OH YEAH---------\n",
            "-----------------------\n",
            "\n"
          ],
          "name": "stdout"
        },
        {
          "output_type": "stream",
          "text": [
            "/usr/local/lib/python3.7/dist-packages/ipykernel_launcher.py:94: RuntimeWarning: Mean of empty slice\n",
            "/usr/local/lib/python3.7/dist-packages/ipykernel_launcher.py:95: RuntimeWarning: Mean of empty slice\n"
          ],
          "name": "stderr"
        },
        {
          "output_type": "stream",
          "text": [
            "Loss: 2.0533 | dice: 0.5597 | dice_neg: 0.6547 | dice_pos: 0.3662 | IoU: 0.3014\n",
            "Loss: 3.3283 | dice: 0.6243 | dice_neg: 0.5118 | dice_pos: 0.1144 | IoU: 0.1923\n",
            "\n"
          ],
          "name": "stdout"
        },
        {
          "output_type": "stream",
          "text": [
            "/usr/local/lib/python3.7/dist-packages/ipykernel_launcher.py:94: RuntimeWarning: Mean of empty slice\n",
            "/usr/local/lib/python3.7/dist-packages/ipykernel_launcher.py:95: RuntimeWarning: Mean of empty slice\n"
          ],
          "name": "stderr"
        },
        {
          "output_type": "stream",
          "text": [
            "Loss: 2.0978 | dice: 0.5624 | dice_neg: 0.6655 | dice_pos: 0.3666 | IoU: 0.3009\n",
            "Loss: 4.0345 | dice: 0.6047 | dice_neg: 0.4606 | dice_pos: 0.1460 | IoU: 0.2523\n",
            "\n"
          ],
          "name": "stdout"
        },
        {
          "output_type": "stream",
          "text": [
            "/usr/local/lib/python3.7/dist-packages/ipykernel_launcher.py:94: RuntimeWarning: Mean of empty slice\n",
            "/usr/local/lib/python3.7/dist-packages/ipykernel_launcher.py:95: RuntimeWarning: Mean of empty slice\n"
          ],
          "name": "stderr"
        },
        {
          "output_type": "stream",
          "text": [
            "Loss: 2.1856 | dice: 0.5440 | dice_neg: 0.6294 | dice_pos: 0.3515 | IoU: 0.2888\n",
            "Loss: 4.1278 | dice: 0.5484 | dice_neg: 0.3927 | dice_pos: 0.1574 | IoU: 0.2687\n",
            "\n"
          ],
          "name": "stdout"
        },
        {
          "output_type": "stream",
          "text": [
            "/usr/local/lib/python3.7/dist-packages/ipykernel_launcher.py:94: RuntimeWarning: Mean of empty slice\n",
            "/usr/local/lib/python3.7/dist-packages/ipykernel_launcher.py:95: RuntimeWarning: Mean of empty slice\n"
          ],
          "name": "stderr"
        },
        {
          "output_type": "stream",
          "text": [
            "Loss: 2.2221 | dice: 0.5287 | dice_neg: 0.6215 | dice_pos: 0.3412 | IoU: 0.2775\n",
            "Loss: 3.9528 | dice: 0.5295 | dice_neg: 0.4014 | dice_pos: 0.1299 | IoU: 0.2139\n",
            "\n"
          ],
          "name": "stdout"
        },
        {
          "output_type": "stream",
          "text": [
            "/usr/local/lib/python3.7/dist-packages/ipykernel_launcher.py:94: RuntimeWarning: Mean of empty slice\n",
            "/usr/local/lib/python3.7/dist-packages/ipykernel_launcher.py:95: RuntimeWarning: Mean of empty slice\n"
          ],
          "name": "stderr"
        },
        {
          "output_type": "stream",
          "text": [
            "Loss: 2.1788 | dice: 0.5278 | dice_neg: 0.6156 | dice_pos: 0.3414 | IoU: 0.2760\n",
            "Loss: 4.2237 | dice: 0.5672 | dice_neg: 0.4046 | dice_pos: 0.1636 | IoU: 0.2789\n",
            "\n"
          ],
          "name": "stdout"
        },
        {
          "output_type": "stream",
          "text": [
            "/usr/local/lib/python3.7/dist-packages/ipykernel_launcher.py:94: RuntimeWarning: Mean of empty slice\n",
            "/usr/local/lib/python3.7/dist-packages/ipykernel_launcher.py:95: RuntimeWarning: Mean of empty slice\n"
          ],
          "name": "stderr"
        },
        {
          "output_type": "stream",
          "text": [
            "Loss: 2.0808 | dice: 0.5214 | dice_neg: 0.5846 | dice_pos: 0.3618 | IoU: 0.2936\n",
            "Loss: 4.0505 | dice: 0.5812 | dice_neg: 0.4085 | dice_pos: 0.1744 | IoU: 0.3068\n",
            "\n"
          ],
          "name": "stdout"
        },
        {
          "output_type": "stream",
          "text": [
            "/usr/local/lib/python3.7/dist-packages/ipykernel_launcher.py:94: RuntimeWarning: Mean of empty slice\n",
            "/usr/local/lib/python3.7/dist-packages/ipykernel_launcher.py:95: RuntimeWarning: Mean of empty slice\n"
          ],
          "name": "stderr"
        },
        {
          "output_type": "stream",
          "text": [
            "Loss: 2.1660 | dice: 0.5498 | dice_neg: 0.6341 | dice_pos: 0.3536 | IoU: 0.2931\n",
            "Loss: 3.6263 | dice: 0.5959 | dice_neg: 0.4424 | dice_pos: 0.1552 | IoU: 0.2652\n",
            "\n"
          ],
          "name": "stdout"
        }
      ]
    },
    {
      "cell_type": "code",
      "metadata": {
        "colab": {
          "base_uri": "https://localhost:8080/"
        },
        "id": "UDn6Ux6idLE_",
        "outputId": "ac8b8ed7-1764-4cd4-b647-f121e4226bf9"
      },
      "source": [
        "print(\"-------OH YEAH---------\")\n",
        "best_loss = losses[\"val\"][-1]\n",
        "state = {\n",
        "        \"epoch\": 9,\n",
        "        \"best_loss\": best_loss,\n",
        "        \"state_dict\": model.state_dict(),\n",
        "        \"optimizer\": optimizer.state_dict(),\n",
        "}\n",
        "print(\"-----------------------\")\n",
        "torch.save(state, \"./model_epoch9_v3_1.pth\")"
      ],
      "execution_count": null,
      "outputs": [
        {
          "output_type": "stream",
          "text": [
            "-------OH YEAH---------\n",
            "-----------------------\n"
          ],
          "name": "stdout"
        }
      ]
    },
    {
      "cell_type": "code",
      "metadata": {
        "colab": {
          "base_uri": "https://localhost:8080/",
          "height": 282
        },
        "id": "tDIdv04gd8Sh",
        "outputId": "269b4c51-e8a9-4f43-d5c0-5a7337713950"
      },
      "source": [
        "import matplotlib.pyplot as plt\n",
        "import numpy as np\n",
        "plt.plot(np.arange(10).tolist(), losses[\"train\"], 'ro-', label='line 1', linewidth=1)"
      ],
      "execution_count": null,
      "outputs": [
        {
          "output_type": "execute_result",
          "data": {
            "text/plain": [
              "[<matplotlib.lines.Line2D at 0x7f43100c1990>]"
            ]
          },
          "metadata": {
            "tags": []
          },
          "execution_count": 20
        },
        {
          "output_type": "display_data",
          "data": {
            "image/png": "[encoded data removed]",
            "text/plain": [
              "<Figure size 432x288 with 1 Axes>"
            ]
          },
          "metadata": {
            "tags": [],
            "needs_background": "light"
          }
        }
      ]
    },
    {
      "cell_type": "code",
      "metadata": {
        "colab": {
          "base_uri": "https://localhost:8080/",
          "height": 282
        },
        "id": "Viqz4R1QeIMx",
        "outputId": "1c1927da-f959-428d-fde6-87742e77e342"
      },
      "source": [
        "plt.plot(np.arange(10).tolist(), losses[\"val\"], 'go-', label='line 1', linewidth=1)"
      ],
      "execution_count": null,
      "outputs": [
        {
          "output_type": "execute_result",
          "data": {
            "text/plain": [
              "[<matplotlib.lines.Line2D at 0x7f431002b910>]"
            ]
          },
          "metadata": {
            "tags": []
          },
          "execution_count": 21
        },
        {
          "output_type": "display_data",
          "data": {
            "image/png": "[encoded data removed]",
            "text/plain": [
              "<Figure size 432x288 with 1 Axes>"
            ]
          },
          "metadata": {
            "tags": [],
            "needs_background": "light"
          }
        }
      ]
    },
    {
      "cell_type": "code",
      "metadata": {
        "id": "Df9RkbL0gqNQ"
      },
      "source": [
        "import torch\n",
        "import os\n",
        "import numpy as np \n",
        "import pandas as pd \n",
        "import pydicom, cv2\n",
        "from glob import glob\n",
        "from tqdm import tqdm\n",
        "import matplotlib.pyplot as plt\n",
        "import albumentations as A\n",
        "from sklearn.model_selection import StratifiedKFold\n",
        "from torch.utils.data import Dataset, DataLoader\n",
        "from albumentations.pytorch import ToTensor\n",
        "import torchvision\n",
        "import torch.nn as nn\n",
        "import torch.optim as optim"
      ],
      "execution_count": null,
      "outputs": []
    },
    {
      "cell_type": "code",
      "metadata": {
        "id": "wbq3-ouGgyWW"
      },
      "source": [
        "class TestDataset(Dataset):\n",
        "    def __init__(self, root, df, size, mean, std, tta=4):\n",
        "        self.root = root\n",
        "        self.size = size\n",
        "        self.fnames = list(df[\"ImageId\"])\n",
        "        self.num_samples = len(self.fnames)\n",
        "        self.transform = A.Compose(\n",
        "            [\n",
        "                A.Normalize(mean = mean, std = std, p = 1),\n",
        "                A.Resize(size, size),\n",
        "                ToTensor()\n",
        "            ]\n",
        "        )\n",
        "\n",
        "    def __getitem__(self, idx):\n",
        "        fname = self.fnames[idx]\n",
        "        path = os.path.join(self.root, fname + \".dcm\")\n",
        "        ds = pydicom.dcmread(path)\n",
        "        image = ds.pixel_array\n",
        "        image = np.stack((image, ) * 3, axis=-1)\n",
        "        images = self.transform(image = image)[\"image\"]\n",
        "        return images\n",
        "\n",
        "    def __len__(self):\n",
        "        return self.num_samples"
      ],
      "execution_count": null,
      "outputs": []
    },
    {
      "cell_type": "code",
      "metadata": {
        "id": "2RygfB7eERsF"
      },
      "source": [
        "def post_process(probability, threshold, min_size):\n",
        "    mask = cv2.threshold(probability, threshold, 1, cv2.THRESH_BINARY)[1]\n",
        "    num_component, component = cv2.connectedComponents(mask.astype(np.uint8))\n",
        "    predictions = np.zeros((1024, 1024), np.float32)\n",
        "    num = 0\n",
        "    for c in range(1, num_component):\n",
        "        p = (component == c)\n",
        "        if p.sum() > min_size:\n",
        "            predictions[p] = 1\n",
        "            num += 1\n",
        "    return predictions, num"
      ],
      "execution_count": null,
      "outputs": []
    },
    {
      "cell_type": "code",
      "metadata": {
        "id": "wma4l_hYg0K-"
      },
      "source": [
        "def run_length_encode(component):\n",
        "    component = component.T.flatten()\n",
        "    start = np.where(component[1:] > component[:-1])[0]+1\n",
        "    end = np.where(component[:-1] > component[1:])[0]+1\n",
        "    length = end-start\n",
        "    rle = []\n",
        "    for i in range(len(length)):\n",
        "        if i == 0:\n",
        "            rle.extend([start[0], length[0]])\n",
        "        else:\n",
        "            rle.extend([start[i]-end[i-1], length[i]])\n",
        "    rle = ' '.join([str(r) for r in rle])\n",
        "    return rle"
      ],
      "execution_count": null,
      "outputs": []
    },
    {
      "cell_type": "code",
      "metadata": {
        "colab": {
          "base_uri": "https://localhost:8080/"
        },
        "id": "QYIryhXng2aY",
        "outputId": "1f06e58c-1467-4a65-f649-60f6815262cd"
      },
      "source": [
        "model = UNetWithResnet50Encoder()\n",
        "size = 512\n",
        "mean = (0.485, 0.456, 0.406)\n",
        "std = (0.229, 0.224, 0.225)\n",
        "num_workers = 8\n",
        "batch_size = 4\n",
        "best_threshold = 0.5\n",
        "min_size = 3500\n",
        "device = torch.device(\"cpu\")\n",
        "df = pd.read_csv(\"./stage_2_sample_submission.csv\")\n",
        "model.to(device)\n",
        "testset = DataLoader(\n",
        "    TestDataset(\"stage_2_images\", df, size, mean, std),\n",
        "    batch_size = batch_size,\n",
        "    shuffle = False,\n",
        "    num_workers = num_workers,\n",
        "    pin_memory = True,\n",
        ")\n",
        "model.eval()\n",
        "state = torch.load('./model_epoch9_v3_1.pth', map_location = lambda storage, loc: storage)\n",
        "model.load_state_dict(state[\"state_dict\"])\n",
        "encoded_pixels = []\n",
        "\n",
        "for i, batch in enumerate(tqdm(testset)):\n",
        "    preds = torch.sigmoid(model(batch.to(device)))\n",
        "    preds = preds.detach().cpu().numpy()[:, 0, :, :] # (batch_size, 1, size, size) -> (batch_size, size, size)\n",
        "    for probability in preds:\n",
        "        if probability.shape != (1024, 1024):\n",
        "            probability = cv2.resize(probability, dsize=(1024, 1024), interpolation=cv2.INTER_LINEAR)\n",
        "        predict, num_predict = post_process(probability, best_threshold, min_size)\n",
        "        if num_predict == 0:\n",
        "            encoded_pixels.append('-1')\n",
        "        else:\n",
        "            r = run_length_encode(predict)\n",
        "            encoded_pixels.append(r)\n",
        "df['EncodedPixels'] = encoded_pixels\n",
        "df.to_csv('submission_v1.csv', columns=['ImageId', 'EncodedPixels'], index=False)"
      ],
      "execution_count": null,
      "outputs": [
        {
          "output_type": "stream",
          "text": [
            "/usr/local/lib/python3.7/dist-packages/torch/utils/data/dataloader.py:477: UserWarning: This DataLoader will create 8 worker processes in total. Our suggested max number of worker in current system is 4, which is smaller than what this DataLoader is going to create. Please be aware that excessive worker creation might get DataLoader running slow or even freeze, lower the worker number to avoid potential slowness/freeze if necessary.\n",
            "  cpuset_checked))\n",
            " 50%|████▉     | 398/802 [1:06:33<1:08:15, 10.14s/it]"
          ],
          "name": "stderr"
        }
      ]
    }
  ]
}