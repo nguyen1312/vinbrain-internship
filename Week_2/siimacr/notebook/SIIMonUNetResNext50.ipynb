{
  "nbformat": 4,
  "nbformat_minor": 0,
  "metadata": {
    "accelerator": "GPU",
    "colab": {
      "name": "SIIMonUNetResNext50.ipynb",
      "provenance": [],
      "machine_shape": "hm"
    },
    "kernelspec": {
      "display_name": "Python 3",
      "name": "python3"
    },
    "language_info": {
      "name": "python"
    },
    "widgets": {
      "application/vnd.jupyter.widget-state+json": {
        "67ca8226d93d4119818799d9a4374eef": {
          "model_module": "@jupyter-widgets/controls",
          "model_name": "HBoxModel",
          "state": {
            "_view_name": "HBoxView",
            "_dom_classes": [],
            "_model_name": "HBoxModel",
            "_view_module": "@jupyter-widgets/controls",
            "_model_module_version": "1.5.0",
            "_view_count": null,
            "_view_module_version": "1.5.0",
            "box_style": "",
            "layout": "IPY_MODEL_60b019e1b47a4198af0367c1aaa5c602",
            "_model_module": "@jupyter-widgets/controls",
            "children": [
              "IPY_MODEL_48409240712e4441b00771b24a2908df",
              "IPY_MODEL_845628318f2244c285e7c862807db35a"
            ]
          }
        },
        "60b019e1b47a4198af0367c1aaa5c602": {
          "model_module": "@jupyter-widgets/base",
          "model_name": "LayoutModel",
          "state": {
            "_view_name": "LayoutView",
            "grid_template_rows": null,
            "right": null,
            "justify_content": null,
            "_view_module": "@jupyter-widgets/base",
            "overflow": null,
            "_model_module_version": "1.2.0",
            "_view_count": null,
            "flex_flow": null,
            "width": null,
            "min_width": null,
            "border": null,
            "align_items": null,
            "bottom": null,
            "_model_module": "@jupyter-widgets/base",
            "top": null,
            "grid_column": null,
            "overflow_y": null,
            "overflow_x": null,
            "grid_auto_flow": null,
            "grid_area": null,
            "grid_template_columns": null,
            "flex": null,
            "_model_name": "LayoutModel",
            "justify_items": null,
            "grid_row": null,
            "max_height": null,
            "align_content": null,
            "visibility": null,
            "align_self": null,
            "height": null,
            "min_height": null,
            "padding": null,
            "grid_auto_rows": null,
            "grid_gap": null,
            "max_width": null,
            "order": null,
            "_view_module_version": "1.2.0",
            "grid_template_areas": null,
            "object_position": null,
            "object_fit": null,
            "grid_auto_columns": null,
            "margin": null,
            "display": null,
            "left": null
          }
        },
        "48409240712e4441b00771b24a2908df": {
          "model_module": "@jupyter-widgets/controls",
          "model_name": "FloatProgressModel",
          "state": {
            "_view_name": "ProgressView",
            "style": "IPY_MODEL_4b56013008d04087b08aed5a62a46cb2",
            "_dom_classes": [],
            "description": "100%",
            "_model_name": "FloatProgressModel",
            "bar_style": "success",
            "max": 110559176,
            "_view_module": "@jupyter-widgets/controls",
            "_model_module_version": "1.5.0",
            "value": 110559176,
            "_view_count": null,
            "_view_module_version": "1.5.0",
            "orientation": "horizontal",
            "min": 0,
            "description_tooltip": null,
            "_model_module": "@jupyter-widgets/controls",
            "layout": "IPY_MODEL_847bdf6225e542fea8e2c01798bd21fc"
          }
        },
        "845628318f2244c285e7c862807db35a": {
          "model_module": "@jupyter-widgets/controls",
          "model_name": "HTMLModel",
          "state": {
            "_view_name": "HTMLView",
            "style": "IPY_MODEL_10990c58d0c640c6a9f705d6d2adc966",
            "_dom_classes": [],
            "description": "",
            "_model_name": "HTMLModel",
            "placeholder": "​",
            "_view_module": "@jupyter-widgets/controls",
            "_model_module_version": "1.5.0",
            "value": " 105M/105M [05:37&lt;00:00, 328kB/s]",
            "_view_count": null,
            "_view_module_version": "1.5.0",
            "description_tooltip": null,
            "_model_module": "@jupyter-widgets/controls",
            "layout": "IPY_MODEL_9f8dabfcaf63483093ec84c45529b5fc"
          }
        },
        "4b56013008d04087b08aed5a62a46cb2": {
          "model_module": "@jupyter-widgets/controls",
          "model_name": "ProgressStyleModel",
          "state": {
            "_view_name": "StyleView",
            "_model_name": "ProgressStyleModel",
            "description_width": "initial",
            "_view_module": "@jupyter-widgets/base",
            "_model_module_version": "1.5.0",
            "_view_count": null,
            "_view_module_version": "1.2.0",
            "bar_color": null,
            "_model_module": "@jupyter-widgets/controls"
          }
        },
        "847bdf6225e542fea8e2c01798bd21fc": {
          "model_module": "@jupyter-widgets/base",
          "model_name": "LayoutModel",
          "state": {
            "_view_name": "LayoutView",
            "grid_template_rows": null,
            "right": null,
            "justify_content": null,
            "_view_module": "@jupyter-widgets/base",
            "overflow": null,
            "_model_module_version": "1.2.0",
            "_view_count": null,
            "flex_flow": null,
            "width": null,
            "min_width": null,
            "border": null,
            "align_items": null,
            "bottom": null,
            "_model_module": "@jupyter-widgets/base",
            "top": null,
            "grid_column": null,
            "overflow_y": null,
            "overflow_x": null,
            "grid_auto_flow": null,
            "grid_area": null,
            "grid_template_columns": null,
            "flex": null,
            "_model_name": "LayoutModel",
            "justify_items": null,
            "grid_row": null,
            "max_height": null,
            "align_content": null,
            "visibility": null,
            "align_self": null,
            "height": null,
            "min_height": null,
            "padding": null,
            "grid_auto_rows": null,
            "grid_gap": null,
            "max_width": null,
            "order": null,
            "_view_module_version": "1.2.0",
            "grid_template_areas": null,
            "object_position": null,
            "object_fit": null,
            "grid_auto_columns": null,
            "margin": null,
            "display": null,
            "left": null
          }
        },
        "10990c58d0c640c6a9f705d6d2adc966": {
          "model_module": "@jupyter-widgets/controls",
          "model_name": "DescriptionStyleModel",
          "state": {
            "_view_name": "StyleView",
            "_model_name": "DescriptionStyleModel",
            "description_width": "",
            "_view_module": "@jupyter-widgets/base",
            "_model_module_version": "1.5.0",
            "_view_count": null,
            "_view_module_version": "1.2.0",
            "_model_module": "@jupyter-widgets/controls"
          }
        },
        "9f8dabfcaf63483093ec84c45529b5fc": {
          "model_module": "@jupyter-widgets/base",
          "model_name": "LayoutModel",
          "state": {
            "_view_name": "LayoutView",
            "grid_template_rows": null,
            "right": null,
            "justify_content": null,
            "_view_module": "@jupyter-widgets/base",
            "overflow": null,
            "_model_module_version": "1.2.0",
            "_view_count": null,
            "flex_flow": null,
            "width": null,
            "min_width": null,
            "border": null,
            "align_items": null,
            "bottom": null,
            "_model_module": "@jupyter-widgets/base",
            "top": null,
            "grid_column": null,
            "overflow_y": null,
            "overflow_x": null,
            "grid_auto_flow": null,
            "grid_area": null,
            "grid_template_columns": null,
            "flex": null,
            "_model_name": "LayoutModel",
            "justify_items": null,
            "grid_row": null,
            "max_height": null,
            "align_content": null,
            "visibility": null,
            "align_self": null,
            "height": null,
            "min_height": null,
            "padding": null,
            "grid_auto_rows": null,
            "grid_gap": null,
            "max_width": null,
            "order": null,
            "_view_module_version": "1.2.0",
            "grid_template_areas": null,
            "object_position": null,
            "object_fit": null,
            "grid_auto_columns": null,
            "margin": null,
            "display": null,
            "left": null
          }
        }
      }
    }
  },
  "cells": [
    {
      "cell_type": "code",
      "metadata": {
        "colab": {
          "base_uri": "https://localhost:8080/"
        },
        "id": "4oDwb93_NbhD",
        "outputId": "a2aa1e97-c6d2-4ae8-a4bb-3618bd6914ee"
      },
      "source": [
        "from google.colab import drive\n",
        "drive.mount(\"/content/gdrive\")"
      ],
      "execution_count": null,
      "outputs": [
        {
          "output_type": "stream",
          "text": [
            "Drive already mounted at /content/gdrive; to attempt to forcibly remount, call drive.mount(\"/content/gdrive\", force_remount=True).\n"
          ],
          "name": "stdout"
        }
      ]
    },
    {
      "cell_type": "code",
      "metadata": {
        "colab": {
          "base_uri": "https://localhost:8080/"
        },
        "id": "S_U9VZxMPGRS",
        "outputId": "5f141408-d11c-4054-a549-110e8ae66e06"
      },
      "source": [
        "cd \"gdrive/My Drive/Colab Notebooks/VinBrain_Intern/W2/1.SIIM-UNet\""
      ],
      "execution_count": null,
      "outputs": [
        {
          "output_type": "stream",
          "text": [
            "/content/gdrive/My Drive/Colab Notebooks/VinBrain_Intern/W2/1.SIIM-UNet\n"
          ],
          "name": "stdout"
        }
      ]
    },
    {
      "cell_type": "code",
      "metadata": {
        "colab": {
          "base_uri": "https://localhost:8080/"
        },
        "id": "trVOpyRAPHtA",
        "outputId": "a44035bc-4f81-49c8-fef5-430c6396a4f6"
      },
      "source": [
        "# package to read dcm file\n",
        "!pip install pydicom "
      ],
      "execution_count": null,
      "outputs": [
        {
          "output_type": "stream",
          "text": [
            "Requirement already satisfied: pydicom in /usr/local/lib/python3.7/dist-packages (2.1.2)\n"
          ],
          "name": "stdout"
        }
      ]
    },
    {
      "cell_type": "code",
      "metadata": {
        "id": "zlJko0pGPJWB"
      },
      "source": [
        "import torch\n",
        "import numpy as np \n",
        "import pandas as pd \n",
        "import pydicom, cv2\n",
        "from glob import glob\n",
        "from tqdm import tqdm\n",
        "import matplotlib.pyplot as plt\n",
        "import albumentations as A\n",
        "import time\n",
        "from torch.nn import functional as F\n",
        "from sklearn.model_selection import StratifiedKFold\n",
        "from torch.utils.data import Dataset, DataLoader\n",
        "from albumentations.pytorch import ToTensor\n",
        "import torchvision\n",
        "import torch.nn as nn\n",
        "import torch.optim as optim"
      ],
      "execution_count": null,
      "outputs": []
    },
    {
      "cell_type": "code",
      "metadata": {
        "id": "Py2s0-uWPJxx"
      },
      "source": [
        "df = pd.read_csv('preprocessing_data.csv')"
      ],
      "execution_count": null,
      "outputs": []
    },
    {
      "cell_type": "code",
      "metadata": {
        "id": "udiJibGpPNYh"
      },
      "source": [
        "# decode rle into mask of XRays Image\n",
        "def run_length_decode(rle, height = 1024, width = 1024, fill_value = 1):\n",
        "    if rle == \"-1\": \n",
        "      return np.zeros((height, width), np.float32) # negative case\n",
        "    # init mask matrix\n",
        "    component = np.zeros((height, width), np.float32)\n",
        "    # flatten init matrix into list\n",
        "    component = component.reshape(-1)\n",
        "    # processing rle\n",
        "    rle = rle[1: -1] # ignore character \"[\", \"]\"\n",
        "    # get all value from rle, store in tempString\n",
        "    tempString = []\n",
        "    for eachRLE in rle.split(','):\n",
        "      s = eachRLE.replace('\\'', '')\n",
        "      tempString.extend([int(s) for s in s.strip().split(\" \")])\n",
        "    # convert into numpy array  \n",
        "    rle = np.asarray(tempString)\n",
        "    # convert rle into mask\n",
        "    rle = rle.reshape(-1, 2)\n",
        "    start = 0\n",
        "    for index, length in rle:\n",
        "        start = start + index\n",
        "        end = start + length\n",
        "        component[start: end] = fill_value # value in rle is idx of pixel 1 in matrix we want\n",
        "        start = end\n",
        "    # reshape into mask matrix with shape (width, height)\n",
        "    component = component.reshape(width, height).T\n",
        "    return component"
      ],
      "execution_count": null,
      "outputs": []
    },
    {
      "cell_type": "code",
      "metadata": {
        "id": "Q-5aeHs2PPVY"
      },
      "source": [
        "# return mask, image from .dcm and rle\n",
        "def getMaskAndImg(dataframe, idx):\n",
        "    ds = pydicom.dcmread(dataframe[\"filepath\"][idx])\n",
        "    img = ds.pixel_array # img is 2-D matrix\n",
        "    mask = run_length_decode(dataframe[\"EncodedPixels\"][idx]) # convert rle into mask\n",
        "    img = np.stack((img, ) * 3, axis=-1) # get matrix shape (width, height, 3)\n",
        "    return img, mask"
      ],
      "execution_count": null,
      "outputs": []
    },
    {
      "cell_type": "code",
      "metadata": {
        "id": "ifeEVaOMPUpo"
      },
      "source": [
        "# transform image, by albumentation\n",
        "class ImageTransform():\n",
        "    def __init__(self, size, mean, std):\n",
        "      self.transform = {\n",
        "          \"train\": A.Compose([\n",
        "                        A.HorizontalFlip(p=0.5),\n",
        "                        A.ShiftScaleRotate(\n",
        "                          shift_limit = 0,\n",
        "                          scale_limit = 0.1,\n",
        "                          rotate_limit = 10,\n",
        "                          p = 0.5,\n",
        "                          border_mode = cv2.BORDER_CONSTANT   \n",
        "                        ),\n",
        "                        A.GaussNoise(),\n",
        "                        A.Resize(size, size),\n",
        "                        A.Normalize(mean=mean, std=std, p = 1),\n",
        "                        ToTensor()\n",
        "                    ]),\n",
        "          \"val\": A.Compose([\n",
        "                        A.Resize(size, size), \n",
        "                        A.Normalize(mean=mean, std=std, p = 1),\n",
        "                        ToTensor()\n",
        "                  ])\n",
        "      }\n",
        "    def __call__(self, image, mask, phase):\n",
        "      return self.transform[phase](image = image, mask = mask)"
      ],
      "execution_count": null,
      "outputs": []
    },
    {
      "cell_type": "code",
      "metadata": {
        "id": "uxsTwZ4aPXDg"
      },
      "source": [
        "# SIIM ACR\n",
        "class SIIMDataset(Dataset):\n",
        "    def __init__(self, dataframe, fnames, size, mean, std, phase = \"train\"):\n",
        "        self.dataframe = dataframe\n",
        "        self.fnames = fnames\n",
        "        self.phase = phase\n",
        "        self.transforms = ImageTransform(size, mean, std)\n",
        "\n",
        "    def __getitem__(self, idx):\n",
        "        image_id = self.fnames[idx]\n",
        "        indice_inDataFrame = self.dataframe.index[self.dataframe['UID'] == image_id].tolist()[0]\n",
        "        image, mask = getMaskAndImg(self.dataframe, indice_inDataFrame) # img, mask are arrays\n",
        "        augmentedData = self.transforms(image = image, mask = mask, phase = self.phase)\n",
        "        image = augmentedData['image']\n",
        "        mask = augmentedData['mask']\n",
        "        return image, mask \n",
        "    def __len__(self):\n",
        "        return len(self.fnames)"
      ],
      "execution_count": null,
      "outputs": []
    },
    {
      "cell_type": "code",
      "metadata": {
        "id": "F08DNkXdPbjh"
      },
      "source": [
        "# sampled dataset\n",
        "def sampledDataset(df, fold):\n",
        "    df_positiveCase = df[df[\"Pneumothorax\"] == 1]\n",
        "    df_negativeCase = df[df[\"Pneumothorax\"] == 0]\n",
        "    df_negativeCase_sampled = df_negativeCase.sample(len(df_positiveCase) + 1000, random_state = 2019)\n",
        "    newSub_Dataframe = pd.concat([df_positiveCase, df_negativeCase_sampled])\n",
        "    kfold = StratifiedKFold(n_splits = 5, random_state = 43, shuffle = True)\n",
        "    df_split = newSub_Dataframe\n",
        "    # k_fold validation\n",
        "    train_idx, val_idx = list(kfold.split(X = df_split[\"UID\"], y = df_split[\"Pneumothorax\"]))[fold]\n",
        "    train_df, val_df = df_split.iloc[train_idx], df_split.iloc[val_idx]\n",
        "    f_names_datatrain = train_df.iloc[:, 0].values.tolist()\n",
        "    f_names_dataval = val_df.iloc[:, 0].values.tolist()\n",
        "    size = 512\n",
        "    mean = (0.485, 0.456, 0.406)\n",
        "    std = (0.229, 0.224, 0.225)\n",
        "    train_dataset = SIIMDataset(train_df, f_names_datatrain, size, mean, std, phase = \"train\")\n",
        "    val_dataset = SIIMDataset(val_df, f_names_dataval, size, mean, std, phase = \"val\")\n",
        "    return {\n",
        "          \"train\": DataLoader(train_dataset, batch_size = 8, shuffle = True, num_workers = 4),\n",
        "          \"val\":  DataLoader(val_dataset, batch_size = 8, shuffle = True, num_workers = 4)\n",
        "      }"
      ],
      "execution_count": null,
      "outputs": []
    },
    {
      "cell_type": "code",
      "metadata": {
        "id": "E-CRd0CoP77B"
      },
      "source": [
        "def predict(X, threshold):\n",
        "    X_p = np.copy(X)\n",
        "    preds = (X_p > threshold).astype('uint8')\n",
        "    return preds"
      ],
      "execution_count": null,
      "outputs": []
    },
    {
      "cell_type": "code",
      "metadata": {
        "id": "OBQOoue0BLq4"
      },
      "source": [
        "def compute_ious(pred, label, classes, ignore_index=255, only_present=True):\n",
        "    '''computes iou for one ground truth mask and predicted mask'''\n",
        "    pred[label == ignore_index] = 0\n",
        "    ious = []\n",
        "    for c in classes:\n",
        "        label_c = label == c\n",
        "        if only_present and np.sum(label_c) == 0:\n",
        "            ious.append(np.nan)\n",
        "            continue\n",
        "        pred_c = pred == c\n",
        "        intersection = np.logical_and(pred_c, label_c).sum()\n",
        "        union = np.logical_or(pred_c, label_c).sum()\n",
        "        if union != 0:\n",
        "            ious.append(intersection / union)\n",
        "    return ious if ious else [1]"
      ],
      "execution_count": null,
      "outputs": []
    },
    {
      "cell_type": "code",
      "metadata": {
        "id": "LaLnhDZtBGDZ"
      },
      "source": [
        "def compute_iou_batch(outputs, labels, classes=None):\n",
        "    '''computes mean iou for a batch of ground truth masks and predicted masks'''\n",
        "    ious = []\n",
        "    preds = np.copy(outputs) # copy is imp\n",
        "    labels = np.array(labels) # tensor to np\n",
        "    for pred, label in zip(preds, labels):\n",
        "        ious.append(np.nanmean(compute_ious(pred, label, classes)))\n",
        "    iou = np.nanmean(ious)\n",
        "    return iou"
      ],
      "execution_count": null,
      "outputs": []
    },
    {
      "cell_type": "code",
      "metadata": {
        "id": "uqgKfZeVBCUp"
      },
      "source": [
        "def epoch_log(phase, epoch, epoch_loss, meter, start):\n",
        "    '''logging the metrics at the end of an epoch'''\n",
        "    dices, iou = meter.get_metrics()\n",
        "    dice, dice_neg, dice_pos = dices\n",
        "    print(\"Loss: %0.4f | dice: %0.4f | dice_neg: %0.4f | dice_pos: %0.4f | IoU: %0.4f\" % (epoch_loss, dice, dice_neg, dice_pos, iou))\n",
        "    return dice, iou"
      ],
      "execution_count": null,
      "outputs": []
    },
    {
      "cell_type": "code",
      "metadata": {
        "id": "8Qy5yMt4A5Xb"
      },
      "source": [
        "def metric(probability, truth, threshold = 0.5, reduction = 'none'):\n",
        "    '''Calculates dice of positive and negative images seperately'''\n",
        "    '''probability and truth must be torch tensors'''\n",
        "    batch_size = len(truth)\n",
        "    with torch.no_grad():\n",
        "        probability = probability.view(batch_size, -1)\n",
        "        truth = truth.view(batch_size, -1)\n",
        "        assert(probability.shape == truth.shape)\n",
        "        p = (probability > threshold).float()\n",
        "        t = (truth > 0.5).float()\n",
        "\n",
        "        t_sum = t.sum(-1)\n",
        "        p_sum = p.sum(-1)\n",
        "        neg_index = torch.nonzero(t_sum == 0)\n",
        "        pos_index = torch.nonzero(t_sum >= 1)\n",
        "\n",
        "        dice_neg = (p_sum == 0).float()\n",
        "        dice_pos = 2 * (p*t).sum(-1)/((p+t).sum(-1))\n",
        "\n",
        "        dice_neg = dice_neg[neg_index]\n",
        "        dice_pos = dice_pos[pos_index]\n",
        "        dice = torch.cat([dice_pos, dice_neg])\n",
        "\n",
        "        dice_neg = np.nan_to_num(dice_neg.mean().item(), 0)\n",
        "        dice_pos = np.nan_to_num(dice_pos.mean().item(), 0)\n",
        "        dice = dice.mean().item()\n",
        "\n",
        "        num_neg = len(neg_index)\n",
        "        num_pos = len(pos_index)\n",
        "\n",
        "    return dice, dice_neg, dice_pos, num_neg, num_pos"
      ],
      "execution_count": null,
      "outputs": []
    },
    {
      "cell_type": "code",
      "metadata": {
        "id": "GpRMuc3MA-t6"
      },
      "source": [
        "class Meter:\n",
        "    '''A meter to keep track of iou and dice scores throughout an epoch'''\n",
        "    def __init__(self, phase, epoch):\n",
        "        self.base_threshold = 0.5 # <<<<<<<<<<< here's the threshold\n",
        "        self.base_dice_scores = []\n",
        "        self.dice_neg_scores = []\n",
        "        self.dice_pos_scores = []\n",
        "        self.iou_scores = []\n",
        "\n",
        "    def update(self, targets, outputs):\n",
        "        probs = torch.sigmoid(outputs)\n",
        "        dice, dice_neg, dice_pos, _, _ = metric(probs, targets, self.base_threshold)\n",
        "        self.base_dice_scores.append(dice)\n",
        "        self.dice_pos_scores.append(dice_pos)\n",
        "        self.dice_neg_scores.append(dice_neg)\n",
        "        preds = predict(probs, self.base_threshold)\n",
        "        iou = compute_iou_batch(preds, targets, classes=[1])\n",
        "        self.iou_scores.append(iou)\n",
        "\n",
        "    def get_metrics(self):\n",
        "        dice = np.mean(self.base_dice_scores)\n",
        "        dice_neg = np.mean(self.dice_neg_scores)\n",
        "        dice_pos = np.mean(self.dice_pos_scores)\n",
        "        dices = [dice, dice_neg, dice_pos]\n",
        "        iou = np.nanmean(self.iou_scores)\n",
        "        return dices, iou"
      ],
      "execution_count": null,
      "outputs": []
    },
    {
      "cell_type": "code",
      "metadata": {
        "id": "bYTGNqfHBVBf"
      },
      "source": [
        "def dice_loss(input, target):\n",
        "    input = torch.sigmoid(input)\n",
        "    smooth = 1.0\n",
        "    iflat = input.view(-1)\n",
        "    tflat = target.view(-1)\n",
        "    intersection = (iflat * tflat).sum()\n",
        "    return ((2.0 * intersection + smooth) / (iflat.sum() + tflat.sum() + smooth))"
      ],
      "execution_count": null,
      "outputs": []
    },
    {
      "cell_type": "code",
      "metadata": {
        "id": "Aqj8x9c9P2eC"
      },
      "source": [
        "class FocalLoss(nn.Module):\n",
        "    def __init__(self, gamma):\n",
        "        super().__init__()\n",
        "        self.gamma = gamma\n",
        "    def forward(self, input, target):\n",
        "        if not (target.size() == input.size()):\n",
        "            raise ValueError(\"Target size ({}) must be the same as input size ({})\"\n",
        "                             .format(target.size(), input.size()))\n",
        "        max_val = (-input).clamp(min=0)\n",
        "        loss = input - input * target + max_val + \\\n",
        "            ((-max_val).exp() + (-input - max_val).exp()).log()\n",
        "        invprobs = F.logsigmoid(-input * (target * 2.0 - 1.0))\n",
        "        loss = (invprobs * self.gamma).exp() * loss\n",
        "        return loss.mean()"
      ],
      "execution_count": null,
      "outputs": []
    },
    {
      "cell_type": "code",
      "metadata": {
        "id": "npgcsja0P4a6"
      },
      "source": [
        "class MixedLoss(nn.Module):\n",
        "    def __init__(self, alpha, gamma):\n",
        "        super().__init__()\n",
        "        self.alpha = alpha\n",
        "        self.focal = FocalLoss(gamma)\n",
        "\n",
        "    def forward(self, input, target):\n",
        "        loss = self.alpha * self.focal(input, target) - torch.log(dice_loss(input, target))\n",
        "        return loss.mean()"
      ],
      "execution_count": null,
      "outputs": []
    },
    {
      "cell_type": "code",
      "metadata": {
        "colab": {
          "base_uri": "https://localhost:8080/"
        },
        "id": "czz_eGTFP41Z",
        "outputId": "c44f7139-ef43-4f56-d003-d914eed81dde"
      },
      "source": [
        "!pip install segmentation_models_pytorch"
      ],
      "execution_count": null,
      "outputs": [
        {
          "output_type": "stream",
          "text": [
            "Collecting segmentation_models_pytorch\n",
            "\u001b[?25l  Downloading https://files.pythonhosted.org/packages/65/54/8953f9f7ee9d451b0f3be8d635aa3a654579abf898d17502a090efe1155a/segmentation_models_pytorch-0.1.3-py3-none-any.whl (66kB)\n",
            "\r\u001b[K     |█████                           | 10kB 21.2MB/s eta 0:00:01\r\u001b[K     |██████████                      | 20kB 2.1MB/s eta 0:00:01\r\u001b[K     |██████████████▉                 | 30kB 3.1MB/s eta 0:00:01\r\u001b[K     |███████████████████▉            | 40kB 4.0MB/s eta 0:00:01\r\u001b[K     |████████████████████████▉       | 51kB 5.0MB/s eta 0:00:01\r\u001b[K     |█████████████████████████████▊  | 61kB 5.9MB/s eta 0:00:01\r\u001b[K     |████████████████████████████████| 71kB 3.8MB/s \n",
            "\u001b[?25hRequirement already satisfied: torchvision>=0.3.0 in /usr/local/lib/python3.7/dist-packages (from segmentation_models_pytorch) (0.9.1+cu101)\n",
            "Collecting pretrainedmodels==0.7.4\n",
            "\u001b[?25l  Downloading https://files.pythonhosted.org/packages/84/0e/be6a0e58447ac16c938799d49bfb5fb7a80ac35e137547fc6cee2c08c4cf/pretrainedmodels-0.7.4.tar.gz (58kB)\n",
            "\u001b[K     |████████████████████████████████| 61kB 9.3MB/s \n",
            "\u001b[?25hCollecting timm==0.3.2\n",
            "\u001b[?25l  Downloading https://files.pythonhosted.org/packages/51/2d/39ecc56fbb202e1891c317e8e44667299bc3b0762ea2ed6aaaa2c2f6613c/timm-0.3.2-py3-none-any.whl (244kB)\n",
            "\u001b[K     |████████████████████████████████| 245kB 51.9MB/s \n",
            "\u001b[?25hCollecting efficientnet-pytorch==0.6.3\n",
            "  Downloading https://files.pythonhosted.org/packages/b8/cb/0309a6e3d404862ae4bc017f89645cf150ac94c14c88ef81d215c8e52925/efficientnet_pytorch-0.6.3.tar.gz\n",
            "Requirement already satisfied: numpy in /usr/local/lib/python3.7/dist-packages (from torchvision>=0.3.0->segmentation_models_pytorch) (1.19.5)\n",
            "Requirement already satisfied: pillow>=4.1.1 in /usr/local/lib/python3.7/dist-packages (from torchvision>=0.3.0->segmentation_models_pytorch) (7.1.2)\n",
            "Requirement already satisfied: torch==1.8.1 in /usr/local/lib/python3.7/dist-packages (from torchvision>=0.3.0->segmentation_models_pytorch) (1.8.1+cu101)\n",
            "Collecting munch\n",
            "  Downloading https://files.pythonhosted.org/packages/cc/ab/85d8da5c9a45e072301beb37ad7f833cd344e04c817d97e0cc75681d248f/munch-2.5.0-py2.py3-none-any.whl\n",
            "Requirement already satisfied: tqdm in /usr/local/lib/python3.7/dist-packages (from pretrainedmodels==0.7.4->segmentation_models_pytorch) (4.41.1)\n",
            "Requirement already satisfied: typing-extensions in /usr/local/lib/python3.7/dist-packages (from torch==1.8.1->torchvision>=0.3.0->segmentation_models_pytorch) (3.7.4.3)\n",
            "Requirement already satisfied: six in /usr/local/lib/python3.7/dist-packages (from munch->pretrainedmodels==0.7.4->segmentation_models_pytorch) (1.15.0)\n",
            "Building wheels for collected packages: pretrainedmodels, efficientnet-pytorch\n",
            "  Building wheel for pretrainedmodels (setup.py) ... \u001b[?25l\u001b[?25hdone\n",
            "  Created wheel for pretrainedmodels: filename=pretrainedmodels-0.7.4-cp37-none-any.whl size=60966 sha256=f87b68e6d6e5dda1496e925b80db76469a153eb59ae16f7abc43e585be1d479e\n",
            "  Stored in directory: /root/.cache/pip/wheels/69/df/63/62583c096289713f22db605aa2334de5b591d59861a02c2ecd\n",
            "  Building wheel for efficientnet-pytorch (setup.py) ... \u001b[?25l\u001b[?25hdone\n",
            "  Created wheel for efficientnet-pytorch: filename=efficientnet_pytorch-0.6.3-cp37-none-any.whl size=12420 sha256=b99dc35e5072fe7fd1bbb1f176db62e518548f5e57bd5b9dfe3075fde964f5a6\n",
            "  Stored in directory: /root/.cache/pip/wheels/42/1e/a9/2a578ba9ad04e776e80bf0f70d8a7f4c29ec0718b92d8f6ccd\n",
            "Successfully built pretrainedmodels efficientnet-pytorch\n",
            "Installing collected packages: munch, pretrainedmodels, timm, efficientnet-pytorch, segmentation-models-pytorch\n",
            "Successfully installed efficientnet-pytorch-0.6.3 munch-2.5.0 pretrainedmodels-0.7.4 segmentation-models-pytorch-0.1.3 timm-0.3.2\n"
          ],
          "name": "stdout"
        }
      ]
    },
    {
      "cell_type": "code",
      "metadata": {
        "id": "DMa_pJonQzcx"
      },
      "source": [
        "import segmentation_models_pytorch as smp\n",
        "import torch"
      ],
      "execution_count": null,
      "outputs": []
    },
    {
      "cell_type": "code",
      "metadata": {
        "colab": {
          "base_uri": "https://localhost:8080/",
          "height": 300,
          "referenced_widgets": [
            "67ca8226d93d4119818799d9a4374eef",
            "60b019e1b47a4198af0367c1aaa5c602",
            "48409240712e4441b00771b24a2908df",
            "845628318f2244c285e7c862807db35a",
            "4b56013008d04087b08aed5a62a46cb2",
            "847bdf6225e542fea8e2c01798bd21fc",
            "10990c58d0c640c6a9f705d6d2adc966",
            "9f8dabfcaf63483093ec84c45529b5fc"
          ]
        },
        "id": "CV3ExnHuq3gn",
        "outputId": "c0cca02a-8e77-4d0f-e087-9f46718e7f07"
      },
      "source": [
        "model = smp.Unet('se_resnext50_32x4d', encoder_weights=\"imagenet\", activation = None)\n",
        "inp = torch.rand((2, 3, 512, 512)).cuda()\n",
        "out = model(inp)\n",
        "out.size()"
      ],
      "execution_count": null,
      "outputs": [
        {
          "output_type": "stream",
          "text": [
            "Downloading: \"http://data.lip6.fr/cadene/pretrainedmodels/se_resnext50_32x4d-a260b3a4.pth\" to /root/.cache/torch/hub/checkpoints/se_resnext50_32x4d-a260b3a4.pth\n"
          ],
          "name": "stderr"
        },
        {
          "output_type": "display_data",
          "data": {
            "application/vnd.jupyter.widget-view+json": {
              "model_id": "67ca8226d93d4119818799d9a4374eef",
              "version_minor": 0,
              "version_major": 2
            },
            "text/plain": [
              "HBox(children=(FloatProgress(value=0.0, max=110559176.0), HTML(value='')))"
            ]
          },
          "metadata": {
            "tags": []
          }
        },
        {
          "output_type": "stream",
          "text": [
            "\n"
          ],
          "name": "stdout"
        },
        {
          "output_type": "error",
          "ename": "NameError",
          "evalue": "ignored",
          "traceback": [
            "\u001b[0;31m---------------------------------------------------------------------------\u001b[0m",
            "\u001b[0;31mNameError\u001b[0m                                 Traceback (most recent call last)",
            "\u001b[0;32m<ipython-input-5-700ba6b6ef00>\u001b[0m in \u001b[0;36m<module>\u001b[0;34m()\u001b[0m\n\u001b[1;32m      1\u001b[0m \u001b[0mmodel\u001b[0m \u001b[0;34m=\u001b[0m \u001b[0msmp\u001b[0m\u001b[0;34m.\u001b[0m\u001b[0mUnet\u001b[0m\u001b[0;34m(\u001b[0m\u001b[0;34m'se_resnext50_32x4d'\u001b[0m\u001b[0;34m,\u001b[0m \u001b[0mencoder_weights\u001b[0m\u001b[0;34m=\u001b[0m\u001b[0;34m\"imagenet\"\u001b[0m\u001b[0;34m,\u001b[0m \u001b[0mactivation\u001b[0m \u001b[0;34m=\u001b[0m \u001b[0;32mNone\u001b[0m\u001b[0;34m)\u001b[0m\u001b[0;34m\u001b[0m\u001b[0;34m\u001b[0m\u001b[0m\n\u001b[0;32m----> 2\u001b[0;31m \u001b[0minp\u001b[0m \u001b[0;34m=\u001b[0m \u001b[0mtorch\u001b[0m\u001b[0;34m.\u001b[0m\u001b[0mrand\u001b[0m\u001b[0;34m(\u001b[0m\u001b[0;34m(\u001b[0m\u001b[0;36m2\u001b[0m\u001b[0;34m,\u001b[0m \u001b[0;36m3\u001b[0m\u001b[0;34m,\u001b[0m \u001b[0;36m512\u001b[0m\u001b[0;34m,\u001b[0m \u001b[0;36m512\u001b[0m\u001b[0;34m)\u001b[0m\u001b[0;34m)\u001b[0m\u001b[0;34m.\u001b[0m\u001b[0mcuda\u001b[0m\u001b[0;34m(\u001b[0m\u001b[0;34m)\u001b[0m\u001b[0;34m\u001b[0m\u001b[0;34m\u001b[0m\u001b[0m\n\u001b[0m\u001b[1;32m      3\u001b[0m \u001b[0mout\u001b[0m \u001b[0;34m=\u001b[0m \u001b[0mmodel\u001b[0m\u001b[0;34m(\u001b[0m\u001b[0minp\u001b[0m\u001b[0;34m)\u001b[0m\u001b[0;34m\u001b[0m\u001b[0;34m\u001b[0m\u001b[0m\n\u001b[1;32m      4\u001b[0m \u001b[0mout\u001b[0m\u001b[0;34m.\u001b[0m\u001b[0msize\u001b[0m\u001b[0;34m(\u001b[0m\u001b[0;34m)\u001b[0m\u001b[0;34m\u001b[0m\u001b[0;34m\u001b[0m\u001b[0m\n",
            "\u001b[0;31mNameError\u001b[0m: name 'torch' is not defined"
          ]
        }
      ]
    },
    {
      "cell_type": "code",
      "metadata": {
        "colab": {
          "base_uri": "https://localhost:8080/"
        },
        "id": "9Xvyf4Iz6F1d",
        "outputId": "a25087ea-cb26-4563-8733-851e225277c2"
      },
      "source": [
        "dataloader = sampledDataset(df, 2)\n",
        "train_dataloader = dataloader[\"train\"]"
      ],
      "execution_count": null,
      "outputs": [
        {
          "output_type": "execute_result",
          "data": {
            "text/plain": [
              "[tensor([[[[-1.5014, -1.3644, -1.3987,  ..., -1.5357, -1.5870, -1.4329],\n",
              "           [-1.5357, -1.5357, -1.5870,  ..., -1.4843, -1.5357, -1.5528],\n",
              "           [-1.5528, -1.4672, -1.4672,  ..., -1.4158, -1.5357, -1.5357],\n",
              "           ...,\n",
              "           [-1.5185, -1.5870, -1.4843,  ..., -1.5699, -1.5870, -1.5357],\n",
              "           [-1.5870, -1.5185, -1.5699,  ..., -1.5528, -1.6213, -1.5528],\n",
              "           [-1.5528, -1.5014, -1.5185,  ..., -1.4500, -1.5185, -1.5014]],\n",
              " \n",
              "          [[-1.3880, -1.4930, -1.3704,  ..., -1.3880, -1.5105, -1.4055],\n",
              "           [-1.4405, -1.3704, -1.3529,  ..., -1.4230, -1.3704, -1.4755],\n",
              "           [-1.3354, -1.4055, -1.3179,  ..., -1.4580, -1.3880, -1.3354],\n",
              "           ...,\n",
              "           [-1.4755, -1.4405, -1.4055,  ..., -1.5630, -1.3704, -1.4230],\n",
              "           [-1.4055, -1.4230, -1.4405,  ..., -1.4930, -1.4580, -1.3529],\n",
              "           [-1.4055, -1.4230, -1.3529,  ..., -1.4055, -1.4580, -1.3704]],\n",
              " \n",
              "          [[-1.0898, -1.1421, -1.1421,  ..., -1.1944, -1.1944, -1.2293],\n",
              "           [-1.1247, -1.1247, -1.0898,  ..., -1.1421, -1.1421, -1.1073],\n",
              "           [-1.3339, -1.2467, -1.1247,  ..., -1.2293, -1.3513, -1.2293],\n",
              "           ...,\n",
              "           [-1.2816, -1.1770, -1.1421,  ..., -1.2816, -1.2641, -1.1944],\n",
              "           [-1.2119, -1.2293, -1.1944,  ..., -1.1247, -1.2119, -1.1596],\n",
              "           [-1.2990, -1.2293, -1.2816,  ..., -1.1596, -1.1944, -1.1596]]],\n",
              " \n",
              " \n",
              "         [[[-1.6213, -1.5185, -1.5185,  ..., -1.5357, -1.6555, -1.5357],\n",
              "           [-1.5185, -1.5528, -1.6042,  ..., -1.5870, -1.6384, -1.5357],\n",
              "           [-1.5014, -1.6384, -1.5699,  ..., -1.5014, -1.6727, -1.4843],\n",
              "           ...,\n",
              "           [-1.5870, -1.5185, -1.5699,  ..., -1.5357, -1.5528, -1.7069],\n",
              "           [-1.5014, -1.5528, -1.5357,  ..., -1.5699, -1.5185, -1.6555],\n",
              "           [-1.6213, -1.6384, -1.7069,  ..., -1.5699, -1.6384, -1.5699]],\n",
              " \n",
              "          [[-1.4580, -1.4755, -1.4230,  ..., -1.5105, -1.4755, -1.4755],\n",
              "           [-1.5980, -1.5105, -1.4755,  ..., -1.4055, -1.4405, -1.4580],\n",
              "           [-1.5105, -1.5805, -1.5105,  ..., -1.4930, -1.4230, -1.4055],\n",
              "           ...,\n",
              "           [-1.5455, -1.4055, -1.5455,  ..., -1.4405, -1.4405, -1.5280],\n",
              "           [-1.4405, -1.4755, -1.4930,  ..., -1.5455, -1.4580, -1.5980],\n",
              "           [-1.4405, -1.4755, -1.4755,  ..., -1.5455, -1.4755, -1.4755]],\n",
              " \n",
              "          [[-1.2816, -1.1770, -1.1421,  ..., -1.3164, -1.2641, -1.3687],\n",
              "           [-1.1944, -1.2641, -1.2641,  ..., -1.1944, -1.2816, -1.3164],\n",
              "           [-1.2990, -1.4036, -1.2467,  ..., -1.2641, -1.2816, -1.2119],\n",
              "           ...,\n",
              "           [-1.1770, -1.3164, -1.2293,  ..., -1.3164, -1.1944, -1.1770],\n",
              "           [-1.3164, -1.2641, -1.1944,  ..., -1.2816, -1.2119, -1.2641],\n",
              "           [-1.2119, -1.2293, -1.2990,  ..., -1.1770, -1.1247, -1.2990]]],\n",
              " \n",
              " \n",
              "         [[[-1.6898, -1.6727, -1.6384,  ..., -1.6384, -1.6384, -1.6898],\n",
              "           [-1.6727, -1.6727, -1.7069,  ..., -1.6042, -1.5014, -1.6384],\n",
              "           [-1.5014, -1.5870, -1.7069,  ..., -1.5870, -1.5699, -1.5357],\n",
              "           ...,\n",
              "           [-1.5699, -1.6384, -1.6384,  ..., -1.6384, -1.6898, -1.6384],\n",
              "           [-1.5528, -1.7069, -1.5699,  ..., -1.6727, -1.6042, -1.7069],\n",
              "           [-1.6898, -1.7240, -1.6555,  ..., -1.6384, -1.6555, -1.6384]],\n",
              " \n",
              "          [[-1.5280, -1.5105, -1.5805,  ..., -1.5105, -1.4930, -1.4930],\n",
              "           [-1.4230, -1.6506, -1.5630,  ..., -1.4580, -1.5280, -1.4930],\n",
              "           [-1.4755, -1.4405, -1.6331,  ..., -1.6331, -1.5455, -1.4930],\n",
              "           ...,\n",
              "           [-1.7031, -1.5630, -1.6155,  ..., -1.5105, -1.4580, -1.4580],\n",
              "           [-1.5455, -1.4930, -1.4930,  ..., -1.5805, -1.4055, -1.5105],\n",
              "           [-1.5805, -1.4930, -1.5805,  ..., -1.5105, -1.4930, -1.5980]],\n",
              " \n",
              "          [[-1.3339, -1.2990, -1.2816,  ..., -1.2816, -1.2990, -1.3164],\n",
              "           [-1.2990, -1.2293, -1.3513,  ..., -1.3687, -1.4384, -1.3339],\n",
              "           [-1.2119, -1.3513, -1.2293,  ..., -1.3164, -1.3687, -1.3164],\n",
              "           ...,\n",
              "           [-1.2990, -1.3164, -1.2816,  ..., -1.1944, -1.2990, -1.2816],\n",
              "           [-1.3687, -1.2641, -1.2641,  ..., -1.3164, -1.3164, -1.3513],\n",
              "           [-1.2990, -1.3687, -1.2816,  ..., -1.3687, -1.1944, -1.2293]]],\n",
              " \n",
              " \n",
              "         ...,\n",
              " \n",
              " \n",
              "         [[[-2.1179, -2.1179, -2.1179,  ..., -2.1179, -2.1179, -2.1179],\n",
              "           [-2.1179, -2.1179, -2.1179,  ..., -2.1179, -2.1179, -2.1179],\n",
              "           [-2.1179, -2.1179, -2.1179,  ..., -2.1179, -2.1179, -2.1179],\n",
              "           ...,\n",
              "           [-2.1179, -2.1179, -2.1179,  ..., -2.1179, -2.1179, -2.1179],\n",
              "           [-2.1179, -2.1179, -2.1179,  ..., -2.1179, -2.1179, -2.1179],\n",
              "           [-2.1179, -2.1179, -2.1179,  ..., -2.1179, -2.1179, -2.1179]],\n",
              " \n",
              "          [[-2.0357, -2.0357, -2.0357,  ..., -2.0357, -2.0357, -2.0357],\n",
              "           [-2.0357, -2.0357, -2.0357,  ..., -2.0357, -2.0357, -2.0357],\n",
              "           [-2.0357, -2.0357, -2.0357,  ..., -2.0357, -2.0357, -2.0357],\n",
              "           ...,\n",
              "           [-2.0357, -2.0357, -2.0357,  ..., -2.0357, -2.0357, -2.0357],\n",
              "           [-2.0357, -2.0357, -2.0357,  ..., -2.0357, -2.0357, -2.0357],\n",
              "           [-2.0357, -2.0357, -2.0357,  ..., -2.0357, -2.0357, -2.0357]],\n",
              " \n",
              "          [[-1.8044, -1.8044, -1.8044,  ..., -1.8044, -1.8044, -1.8044],\n",
              "           [-1.8044, -1.8044, -1.8044,  ..., -1.8044, -1.8044, -1.8044],\n",
              "           [-1.8044, -1.8044, -1.8044,  ..., -1.8044, -1.8044, -1.8044],\n",
              "           ...,\n",
              "           [-1.8044, -1.8044, -1.8044,  ..., -1.8044, -1.8044, -1.8044],\n",
              "           [-1.8044, -1.8044, -1.8044,  ..., -1.8044, -1.8044, -1.8044],\n",
              "           [-1.8044, -1.8044, -1.8044,  ..., -1.8044, -1.8044, -1.8044]]],\n",
              " \n",
              " \n",
              "         [[[-1.6213, -1.7069, -1.6384,  ..., -1.6555, -1.6898, -1.6555],\n",
              "           [-1.7069, -1.6213, -1.6213,  ..., -1.6727, -1.6213, -1.6727],\n",
              "           [-1.6727, -1.6898, -1.6555,  ..., -1.7069, -1.7583, -1.6384],\n",
              "           ...,\n",
              "           [-1.7240, -1.7069, -1.7069,  ..., -1.6555, -1.6384, -1.6898],\n",
              "           [-1.6727, -1.6384, -1.5870,  ..., -1.6555, -1.6384, -1.6213],\n",
              "           [-1.7069, -1.7240, -1.7069,  ..., -1.7069, -1.7069, -1.6555]],\n",
              " \n",
              "          [[-1.6856, -1.5805, -1.6331,  ..., -1.6331, -1.6506, -1.6856],\n",
              "           [-1.5630, -1.5455, -1.5455,  ..., -1.5980, -1.5280, -1.6155],\n",
              "           [-1.6856, -1.5630, -1.5805,  ..., -1.6331, -1.6681, -1.5630],\n",
              "           ...,\n",
              "           [-1.5630, -1.5805, -1.6155,  ..., -1.5630, -1.6331, -1.5455],\n",
              "           [-1.6681, -1.5980, -1.5630,  ..., -1.4930, -1.5980, -1.5805],\n",
              "           [-1.4755, -1.5980, -1.4930,  ..., -1.6155, -1.4755, -1.5105]],\n",
              " \n",
              "          [[-1.2816, -1.4210, -1.3687,  ..., -1.2816, -1.3339, -1.3687],\n",
              "           [-1.3339, -1.3513, -1.4210,  ..., -1.4036, -1.3164, -1.4036],\n",
              "           [-1.4733, -1.3164, -1.2816,  ..., -1.3687, -1.3861, -1.2990],\n",
              "           ...,\n",
              "           [-1.3339, -1.4384, -1.3164,  ..., -1.3339, -1.3861, -1.3687],\n",
              "           [-1.3861, -1.2990, -1.3339,  ..., -1.4036, -1.4210, -1.3339],\n",
              "           [-1.3513, -1.2990, -1.3513,  ..., -1.4036, -1.3164, -1.4210]]],\n",
              " \n",
              " \n",
              "         [[[-0.3883, -0.7137, -0.9020,  ..., -1.3815, -1.3815, -1.3815],\n",
              "           [-0.5424, -0.8335, -1.0219,  ..., -1.5357, -1.5185, -1.5185],\n",
              "           [-0.6965, -0.9705, -1.1418,  ..., -1.6555, -1.6727, -1.6727],\n",
              "           ...,\n",
              "           [-0.5596, -0.2342, -0.0629,  ..., -1.5014, -1.5014, -1.5185],\n",
              "           [-0.5596, -0.1828, -0.0458,  ..., -1.5528, -1.5528, -1.5528],\n",
              "           [-0.5082, -0.1486, -0.0287,  ..., -1.5870, -1.5699, -1.5870]],\n",
              " \n",
              "          [[-0.2675, -0.6001, -0.7927,  ..., -1.2829, -1.2829, -1.2829],\n",
              "           [-0.4251, -0.7227, -0.9153,  ..., -1.4405, -1.4230, -1.4230],\n",
              "           [-0.5826, -0.8627, -1.0378,  ..., -1.5630, -1.5805, -1.5805],\n",
              "           ...,\n",
              "           [-0.4426, -0.1099,  0.0651,  ..., -1.4055, -1.4055, -1.4230],\n",
              "           [-0.4426, -0.0574,  0.0826,  ..., -1.4580, -1.4580, -1.4580],\n",
              "           [-0.3901, -0.0224,  0.1001,  ..., -1.4930, -1.4755, -1.4930]],\n",
              " \n",
              "          [[-0.0441, -0.3753, -0.5670,  ..., -1.0550, -1.0550, -1.0550],\n",
              "           [-0.2010, -0.4973, -0.6890,  ..., -1.2119, -1.1944, -1.1944],\n",
              "           [-0.3578, -0.6367, -0.8110,  ..., -1.3339, -1.3513, -1.3513],\n",
              "           ...,\n",
              "           [-0.2184,  0.1128,  0.2871,  ..., -1.1770, -1.1770, -1.1944],\n",
              "           [-0.2184,  0.1651,  0.3045,  ..., -1.2293, -1.2293, -1.2293],\n",
              "           [-0.1661,  0.1999,  0.3219,  ..., -1.2641, -1.2467, -1.2641]]]]),\n",
              " tensor([[[[0., 0., 0.,  ..., 0., 0., 0.],\n",
              "           [0., 0., 0.,  ..., 0., 0., 0.],\n",
              "           [0., 0., 0.,  ..., 0., 0., 0.],\n",
              "           ...,\n",
              "           [0., 0., 0.,  ..., 0., 0., 0.],\n",
              "           [0., 0., 0.,  ..., 0., 0., 0.],\n",
              "           [0., 0., 0.,  ..., 0., 0., 0.]]],\n",
              " \n",
              " \n",
              "         [[[0., 0., 0.,  ..., 0., 0., 0.],\n",
              "           [0., 0., 0.,  ..., 0., 0., 0.],\n",
              "           [0., 0., 0.,  ..., 0., 0., 0.],\n",
              "           ...,\n",
              "           [0., 0., 0.,  ..., 0., 0., 0.],\n",
              "           [0., 0., 0.,  ..., 0., 0., 0.],\n",
              "           [0., 0., 0.,  ..., 0., 0., 0.]]],\n",
              " \n",
              " \n",
              "         [[[0., 0., 0.,  ..., 0., 0., 0.],\n",
              "           [0., 0., 0.,  ..., 0., 0., 0.],\n",
              "           [0., 0., 0.,  ..., 0., 0., 0.],\n",
              "           ...,\n",
              "           [0., 0., 0.,  ..., 0., 0., 0.],\n",
              "           [0., 0., 0.,  ..., 0., 0., 0.],\n",
              "           [0., 0., 0.,  ..., 0., 0., 0.]]],\n",
              " \n",
              " \n",
              "         ...,\n",
              " \n",
              " \n",
              "         [[[0., 0., 0.,  ..., 0., 0., 0.],\n",
              "           [0., 0., 0.,  ..., 0., 0., 0.],\n",
              "           [0., 0., 0.,  ..., 0., 0., 0.],\n",
              "           ...,\n",
              "           [0., 0., 0.,  ..., 0., 0., 0.],\n",
              "           [0., 0., 0.,  ..., 0., 0., 0.],\n",
              "           [0., 0., 0.,  ..., 0., 0., 0.]]],\n",
              " \n",
              " \n",
              "         [[[0., 0., 0.,  ..., 0., 0., 0.],\n",
              "           [0., 0., 0.,  ..., 0., 0., 0.],\n",
              "           [0., 0., 0.,  ..., 0., 0., 0.],\n",
              "           ...,\n",
              "           [0., 0., 0.,  ..., 0., 0., 0.],\n",
              "           [0., 0., 0.,  ..., 0., 0., 0.],\n",
              "           [0., 0., 0.,  ..., 0., 0., 0.]]],\n",
              " \n",
              " \n",
              "         [[[0., 0., 0.,  ..., 0., 0., 0.],\n",
              "           [0., 0., 0.,  ..., 0., 0., 0.],\n",
              "           [0., 0., 0.,  ..., 0., 0., 0.],\n",
              "           ...,\n",
              "           [0., 0., 0.,  ..., 0., 0., 0.],\n",
              "           [0., 0., 0.,  ..., 0., 0., 0.],\n",
              "           [0., 0., 0.,  ..., 0., 0., 0.]]]])]"
            ]
          },
          "metadata": {
            "tags": []
          },
          "execution_count": 16
        }
      ]
    },
    {
      "cell_type": "code",
      "metadata": {
        "id": "nnxv73ipSCc9"
      },
      "source": [
        "model = smp.Unet('se_resnext50_32x4d', encoder_weights=\"imagenet\", activation = None)\n",
        "fold = 1\n",
        "total_folds = 5\n",
        "lr = 5e-4\n",
        "num_epochs = 100\n",
        "best_loss = float(\"inf\")\n",
        "device = torch.device(\"cuda:0\")\n",
        "torch.set_default_tensor_type(\"torch.cuda.FloatTensor\")\n",
        "criterion = MixedLoss(0.3, 3.5)\n",
        "optimizer = optim.Adam( model.parameters(), lr = lr)\n",
        "# model_path = './model.pth'\n",
        "# state_dict = torch.load(model_path, map_location = 'cpu')\n",
        "# model.load_state_dict(state_dict[\"state_dict\"])\n",
        "model.to(device = device)\n",
        "accumulation_steps = 32 // 8\n",
        "best_loss = float(\"inf\")"
      ],
      "execution_count": null,
      "outputs": []
    },
    {
      "cell_type": "code",
      "metadata": {
        "id": "ldK9Axd2Tv9k"
      },
      "source": [
        "losses = {phase: [] for phase in [\"train\", \"val\"]}\n",
        "iou_scores = {phase: [] for phase in [\"train\", \"val\"]}\n",
        "dice_scores = {phase: [] for phase in [\"train\", \"val\"]}"
      ],
      "execution_count": null,
      "outputs": []
    },
    {
      "cell_type": "code",
      "metadata": {
        "id": "Wb199CAlp23l"
      },
      "source": [
        "# checkpoint = torch.load(\"./model.pth\")\n",
        "# model.load_state_dict(checkpoint[\"state_dict\"])\n",
        "# optimizer.load_state_dict(checkpoint['optimizer'])"
      ],
      "execution_count": null,
      "outputs": []
    },
    {
      "cell_type": "code",
      "metadata": {
        "colab": {
          "base_uri": "https://localhost:8080/"
        },
        "id": "fpzYmG9BT1u7",
        "outputId": "8b8278fa-774e-4ab1-b59f-d0e3887eefa7"
      },
      "source": [
        "for epoch in range(num_epochs):\n",
        "    meter = Meter(\"train\", epoch)\n",
        "    start = time.strftime(\"%H:%M:%S\")\n",
        "    model.train(True)\n",
        "    running_loss = 0.0\n",
        "    optimizer.zero_grad()\n",
        "    dataloader = sampledDataset(df, 2)\n",
        "    train_dataloader = dataloader[\"train\"]\n",
        "    val_dataloader = dataloader[\"val\"]\n",
        "    total_batches = len(train_dataloader)\n",
        "    for itr, batch in enumerate(train_dataloader):\n",
        "        images, targets = batch\n",
        "        images = images.to(device)\n",
        "        masks = targets.to(device)\n",
        "        outputs = model(images)\n",
        "        loss = criterion(outputs, masks)\n",
        "        loss = loss / accumulation_steps    \n",
        "        loss.backward()\n",
        "        if (itr + 1 ) % accumulation_steps == 0:\n",
        "            optimizer.step()\n",
        "            optimizer.zero_grad()\n",
        "        running_loss += loss.item()\n",
        "        outputs = outputs.detach().cpu()\n",
        "        meter.update(targets, outputs)\n",
        "\n",
        "    epoch_loss = (running_loss * accumulation_steps) / total_batches\n",
        "    dice, iou = epoch_log(\"train\", epoch, epoch_loss, meter, start)\n",
        "    losses[\"train\"].append(epoch_loss)\n",
        "    dice_scores[\"train\"].append(dice)\n",
        "    iou_scores[\"train\"].append(iou)\n",
        "    torch.cuda.empty_cache()\n",
        "\n",
        "    meter = Meter(\"val\", epoch)\n",
        "    start = time.strftime(\"%H:%M:%S\")\n",
        "    model.train(False)\n",
        "    running_loss = 0.0\n",
        "    total_batches = len(val_dataloader)\n",
        "    optimizer.zero_grad()\n",
        "    for itr, batch in enumerate(val_dataloader):\n",
        "        images, targets = batch\n",
        "        images = images.to(device)\n",
        "        masks = targets.to(device)\n",
        "        outputs = model(images)\n",
        "        loss = criterion(outputs, masks)\n",
        "        loss = loss / accumulation_steps    \n",
        "        running_loss += loss.item()\n",
        "        outputs = outputs.detach().cpu()\n",
        "        meter.update(targets, outputs)\n",
        "\n",
        "    epoch_loss = (running_loss * accumulation_steps) / total_batches\n",
        "    dice, iou = epoch_log(\"val\", epoch, epoch_loss, meter, start)\n",
        "    losses[\"val\"].append(epoch_loss)\n",
        "    dice_scores[\"val\"].append(dice)\n",
        "    iou_scores[\"val\"].append(iou)\n",
        "    torch.cuda.empty_cache()\n",
        "    if epoch_loss < best_loss:\n",
        "        print(\"-------OH YEAH---------\")\n",
        "        best_loss = epoch_loss\n",
        "        state = {\n",
        "                \"epoch\": epoch,\n",
        "                \"best_loss\": best_loss,\n",
        "                \"state_dict\": model.state_dict(),\n",
        "                \"optimizer\": optimizer.state_dict(),\n",
        "        }\n",
        "        print(\"-----------------------\")\n",
        "        torch.save(state, \"./model_v2.pth\")\n",
        "    print()"
      ],
      "execution_count": null,
      "outputs": [
        {
          "output_type": "stream",
          "text": [
            "/usr/local/lib/python3.7/dist-packages/ipykernel_launcher.py:96: RuntimeWarning: Mean of empty slice\n",
            "/usr/local/lib/python3.7/dist-packages/ipykernel_launcher.py:97: RuntimeWarning: Mean of empty slice\n"
          ],
          "name": "stderr"
        },
        {
          "output_type": "stream",
          "text": [
            "Loss: 3.7742 | dice: 0.1521 | dice_neg: 0.0691 | dice_pos: 0.2591 | IoU: 0.1736\n",
            "Loss: 2.4000 | dice: 0.4951 | dice_neg: 0.6155 | dice_pos: 0.3183 | IoU: 0.2222\n",
            "-------OH YEAH---------\n",
            "-----------------------\n",
            "\n"
          ],
          "name": "stdout"
        },
        {
          "output_type": "stream",
          "text": [
            "/usr/local/lib/python3.7/dist-packages/ipykernel_launcher.py:96: RuntimeWarning: Mean of empty slice\n",
            "/usr/local/lib/python3.7/dist-packages/ipykernel_launcher.py:97: RuntimeWarning: Mean of empty slice\n"
          ],
          "name": "stderr"
        },
        {
          "output_type": "stream",
          "text": [
            "Loss: 2.2696 | dice: 0.2512 | dice_neg: 0.2129 | dice_pos: 0.3226 | IoU: 0.2283\n",
            "Loss: 1.9627 | dice: 0.1953 | dice_neg: 0.0769 | dice_pos: 0.3591 | IoU: 0.2546\n",
            "-------OH YEAH---------\n",
            "-----------------------\n",
            "\n"
          ],
          "name": "stdout"
        },
        {
          "output_type": "stream",
          "text": [
            "/usr/local/lib/python3.7/dist-packages/ipykernel_launcher.py:96: RuntimeWarning: Mean of empty slice\n",
            "/usr/local/lib/python3.7/dist-packages/ipykernel_launcher.py:97: RuntimeWarning: Mean of empty slice\n"
          ],
          "name": "stderr"
        },
        {
          "output_type": "stream",
          "text": [
            "Loss: 1.7727 | dice: 0.3596 | dice_neg: 0.3897 | dice_pos: 0.3468 | IoU: 0.2495\n",
            "Loss: 1.7608 | dice: 0.3828 | dice_neg: 0.3725 | dice_pos: 0.3940 | IoU: 0.2941\n",
            "-------OH YEAH---------\n",
            "-----------------------\n",
            "\n"
          ],
          "name": "stdout"
        },
        {
          "output_type": "stream",
          "text": [
            "/usr/local/lib/python3.7/dist-packages/ipykernel_launcher.py:96: RuntimeWarning: Mean of empty slice\n",
            "/usr/local/lib/python3.7/dist-packages/ipykernel_launcher.py:97: RuntimeWarning: Mean of empty slice\n"
          ],
          "name": "stderr"
        },
        {
          "output_type": "stream",
          "text": [
            "Loss: 1.6012 | dice: 0.4116 | dice_neg: 0.4773 | dice_pos: 0.3580 | IoU: 0.2580\n",
            "Loss: 1.5314 | dice: 0.3571 | dice_neg: 0.3443 | dice_pos: 0.3843 | IoU: 0.2785\n",
            "-------OH YEAH---------\n",
            "-----------------------\n",
            "\n"
          ],
          "name": "stdout"
        },
        {
          "output_type": "stream",
          "text": [
            "/usr/local/lib/python3.7/dist-packages/ipykernel_launcher.py:96: RuntimeWarning: Mean of empty slice\n",
            "/usr/local/lib/python3.7/dist-packages/ipykernel_launcher.py:97: RuntimeWarning: Mean of empty slice\n"
          ],
          "name": "stderr"
        },
        {
          "output_type": "stream",
          "text": [
            "Loss: 1.6210 | dice: 0.4349 | dice_neg: 0.5197 | dice_pos: 0.3602 | IoU: 0.2627\n",
            "Loss: 1.4722 | dice: 0.4443 | dice_neg: 0.4818 | dice_pos: 0.3868 | IoU: 0.2823\n",
            "-------OH YEAH---------\n",
            "-----------------------\n",
            "\n"
          ],
          "name": "stdout"
        },
        {
          "output_type": "stream",
          "text": [
            "/usr/local/lib/python3.7/dist-packages/ipykernel_launcher.py:96: RuntimeWarning: Mean of empty slice\n",
            "/usr/local/lib/python3.7/dist-packages/ipykernel_launcher.py:97: RuntimeWarning: Mean of empty slice\n"
          ],
          "name": "stderr"
        },
        {
          "output_type": "stream",
          "text": [
            "Loss: 1.5989 | dice: 0.4401 | dice_neg: 0.5218 | dice_pos: 0.3675 | IoU: 0.2711\n",
            "Loss: 1.4434 | dice: 0.4906 | dice_neg: 0.5769 | dice_pos: 0.3909 | IoU: 0.2869\n",
            "-------OH YEAH---------\n",
            "-----------------------\n",
            "\n"
          ],
          "name": "stdout"
        },
        {
          "output_type": "stream",
          "text": [
            "/usr/local/lib/python3.7/dist-packages/ipykernel_launcher.py:96: RuntimeWarning: Mean of empty slice\n",
            "/usr/local/lib/python3.7/dist-packages/ipykernel_launcher.py:97: RuntimeWarning: Mean of empty slice\n"
          ],
          "name": "stderr"
        },
        {
          "output_type": "stream",
          "text": [
            "Loss: 1.5480 | dice: 0.4571 | dice_neg: 0.5421 | dice_pos: 0.3789 | IoU: 0.2768\n",
            "Loss: 1.2558 | dice: 0.5870 | dice_neg: 0.7162 | dice_pos: 0.3979 | IoU: 0.2985\n",
            "-------OH YEAH---------\n",
            "-----------------------\n",
            "\n"
          ],
          "name": "stdout"
        },
        {
          "output_type": "stream",
          "text": [
            "/usr/local/lib/python3.7/dist-packages/ipykernel_launcher.py:96: RuntimeWarning: Mean of empty slice\n",
            "/usr/local/lib/python3.7/dist-packages/ipykernel_launcher.py:97: RuntimeWarning: Mean of empty slice\n"
          ],
          "name": "stderr"
        },
        {
          "output_type": "stream",
          "text": [
            "Loss: 1.4457 | dice: 0.5237 | dice_neg: 0.6396 | dice_pos: 0.3960 | IoU: 0.2991\n",
            "Loss: 1.4485 | dice: 0.5717 | dice_neg: 0.6884 | dice_pos: 0.4003 | IoU: 0.2973\n",
            "\n"
          ],
          "name": "stdout"
        },
        {
          "output_type": "stream",
          "text": [
            "/usr/local/lib/python3.7/dist-packages/ipykernel_launcher.py:96: RuntimeWarning: Mean of empty slice\n",
            "/usr/local/lib/python3.7/dist-packages/ipykernel_launcher.py:97: RuntimeWarning: Mean of empty slice\n"
          ],
          "name": "stderr"
        },
        {
          "output_type": "stream",
          "text": [
            "Loss: 1.4721 | dice: 0.4712 | dice_neg: 0.5586 | dice_pos: 0.3943 | IoU: 0.2901\n",
            "Loss: 1.4497 | dice: 0.5082 | dice_neg: 0.5893 | dice_pos: 0.3932 | IoU: 0.2941\n",
            "\n"
          ],
          "name": "stdout"
        },
        {
          "output_type": "stream",
          "text": [
            "/usr/local/lib/python3.7/dist-packages/ipykernel_launcher.py:96: RuntimeWarning: Mean of empty slice\n",
            "/usr/local/lib/python3.7/dist-packages/ipykernel_launcher.py:97: RuntimeWarning: Mean of empty slice\n"
          ],
          "name": "stderr"
        },
        {
          "output_type": "stream",
          "text": [
            "Loss: 1.4503 | dice: 0.4918 | dice_neg: 0.5918 | dice_pos: 0.3915 | IoU: 0.2894\n",
            "Loss: 1.4987 | dice: 0.4030 | dice_neg: 0.3875 | dice_pos: 0.4141 | IoU: 0.3181\n",
            "\n"
          ],
          "name": "stdout"
        },
        {
          "output_type": "stream",
          "text": [
            "/usr/local/lib/python3.7/dist-packages/ipykernel_launcher.py:96: RuntimeWarning: Mean of empty slice\n",
            "/usr/local/lib/python3.7/dist-packages/ipykernel_launcher.py:97: RuntimeWarning: Mean of empty slice\n"
          ],
          "name": "stderr"
        },
        {
          "output_type": "stream",
          "text": [
            "Loss: 1.4093 | dice: 0.5202 | dice_neg: 0.6372 | dice_pos: 0.3980 | IoU: 0.2983\n",
            "Loss: 1.3259 | dice: 0.6503 | dice_neg: 0.8370 | dice_pos: 0.3895 | IoU: 0.2969\n",
            "\n"
          ],
          "name": "stdout"
        },
        {
          "output_type": "stream",
          "text": [
            "/usr/local/lib/python3.7/dist-packages/ipykernel_launcher.py:96: RuntimeWarning: Mean of empty slice\n",
            "/usr/local/lib/python3.7/dist-packages/ipykernel_launcher.py:97: RuntimeWarning: Mean of empty slice\n"
          ],
          "name": "stderr"
        },
        {
          "output_type": "stream",
          "text": [
            "Loss: 1.3454 | dice: 0.5547 | dice_neg: 0.6891 | dice_pos: 0.4101 | IoU: 0.3075\n",
            "Loss: 1.5977 | dice: 0.3250 | dice_neg: 0.2465 | dice_pos: 0.4162 | IoU: 0.3089\n",
            "\n"
          ],
          "name": "stdout"
        },
        {
          "output_type": "stream",
          "text": [
            "/usr/local/lib/python3.7/dist-packages/ipykernel_launcher.py:96: RuntimeWarning: Mean of empty slice\n",
            "/usr/local/lib/python3.7/dist-packages/ipykernel_launcher.py:97: RuntimeWarning: Mean of empty slice\n"
          ],
          "name": "stderr"
        },
        {
          "output_type": "stream",
          "text": [
            "Loss: 1.4280 | dice: 0.5180 | dice_neg: 0.6373 | dice_pos: 0.3919 | IoU: 0.2908\n",
            "Loss: 1.3056 | dice: 0.6043 | dice_neg: 0.7616 | dice_pos: 0.3763 | IoU: 0.2806\n",
            "\n"
          ],
          "name": "stdout"
        },
        {
          "output_type": "stream",
          "text": [
            "/usr/local/lib/python3.7/dist-packages/ipykernel_launcher.py:96: RuntimeWarning: Mean of empty slice\n",
            "/usr/local/lib/python3.7/dist-packages/ipykernel_launcher.py:97: RuntimeWarning: Mean of empty slice\n"
          ],
          "name": "stderr"
        },
        {
          "output_type": "stream",
          "text": [
            "Loss: 1.4387 | dice: 0.5301 | dice_neg: 0.6516 | dice_pos: 0.4047 | IoU: 0.3035\n",
            "Loss: 1.2639 | dice: 0.6588 | dice_neg: 0.8502 | dice_pos: 0.4021 | IoU: 0.3020\n",
            "\n"
          ],
          "name": "stdout"
        },
        {
          "output_type": "stream",
          "text": [
            "/usr/local/lib/python3.7/dist-packages/ipykernel_launcher.py:96: RuntimeWarning: Mean of empty slice\n",
            "/usr/local/lib/python3.7/dist-packages/ipykernel_launcher.py:97: RuntimeWarning: Mean of empty slice\n"
          ],
          "name": "stderr"
        },
        {
          "output_type": "stream",
          "text": [
            "Loss: 1.2603 | dice: 0.5481 | dice_neg: 0.6646 | dice_pos: 0.4214 | IoU: 0.3140\n",
            "Loss: 1.2620 | dice: 0.5332 | dice_neg: 0.5787 | dice_pos: 0.4536 | IoU: 0.3418\n",
            "\n"
          ],
          "name": "stdout"
        },
        {
          "output_type": "stream",
          "text": [
            "/usr/local/lib/python3.7/dist-packages/ipykernel_launcher.py:96: RuntimeWarning: Mean of empty slice\n",
            "/usr/local/lib/python3.7/dist-packages/ipykernel_launcher.py:97: RuntimeWarning: Mean of empty slice\n"
          ],
          "name": "stderr"
        },
        {
          "output_type": "stream",
          "text": [
            "Loss: 1.3053 | dice: 0.5891 | dice_neg: 0.7457 | dice_pos: 0.4074 | IoU: 0.3106\n",
            "Loss: 1.2606 | dice: 0.6598 | dice_neg: 0.8210 | dice_pos: 0.4173 | IoU: 0.3254\n",
            "\n"
          ],
          "name": "stdout"
        },
        {
          "output_type": "stream",
          "text": [
            "/usr/local/lib/python3.7/dist-packages/ipykernel_launcher.py:96: RuntimeWarning: Mean of empty slice\n",
            "/usr/local/lib/python3.7/dist-packages/ipykernel_launcher.py:97: RuntimeWarning: Mean of empty slice\n"
          ],
          "name": "stderr"
        },
        {
          "output_type": "stream",
          "text": [
            "Loss: 1.2819 | dice: 0.5672 | dice_neg: 0.6977 | dice_pos: 0.4281 | IoU: 0.3258\n",
            "Loss: 1.3162 | dice: 0.6139 | dice_neg: 0.7693 | dice_pos: 0.4188 | IoU: 0.3175\n",
            "\n"
          ],
          "name": "stdout"
        },
        {
          "output_type": "stream",
          "text": [
            "/usr/local/lib/python3.7/dist-packages/ipykernel_launcher.py:96: RuntimeWarning: Mean of empty slice\n",
            "/usr/local/lib/python3.7/dist-packages/ipykernel_launcher.py:97: RuntimeWarning: Mean of empty slice\n"
          ],
          "name": "stderr"
        },
        {
          "output_type": "stream",
          "text": [
            "Loss: 1.3382 | dice: 0.5110 | dice_neg: 0.6071 | dice_pos: 0.4166 | IoU: 0.3120\n",
            "Loss: 1.2192 | dice: 0.6002 | dice_neg: 0.7440 | dice_pos: 0.3970 | IoU: 0.2990\n",
            "-------OH YEAH---------\n",
            "-----------------------\n",
            "\n"
          ],
          "name": "stdout"
        },
        {
          "output_type": "stream",
          "text": [
            "/usr/local/lib/python3.7/dist-packages/ipykernel_launcher.py:96: RuntimeWarning: Mean of empty slice\n",
            "/usr/local/lib/python3.7/dist-packages/ipykernel_launcher.py:97: RuntimeWarning: Mean of empty slice\n"
          ],
          "name": "stderr"
        },
        {
          "output_type": "stream",
          "text": [
            "Loss: 1.2257 | dice: 0.5894 | dice_neg: 0.7341 | dice_pos: 0.4220 | IoU: 0.3171\n",
            "Loss: 1.4304 | dice: 0.6683 | dice_neg: 0.8745 | dice_pos: 0.3762 | IoU: 0.2856\n",
            "\n"
          ],
          "name": "stdout"
        },
        {
          "output_type": "stream",
          "text": [
            "/usr/local/lib/python3.7/dist-packages/ipykernel_launcher.py:96: RuntimeWarning: Mean of empty slice\n",
            "/usr/local/lib/python3.7/dist-packages/ipykernel_launcher.py:97: RuntimeWarning: Mean of empty slice\n"
          ],
          "name": "stderr"
        },
        {
          "output_type": "stream",
          "text": [
            "Loss: 1.2596 | dice: 0.6170 | dice_neg: 0.7792 | dice_pos: 0.4250 | IoU: 0.3259\n",
            "Loss: 1.4060 | dice: 0.6391 | dice_neg: 0.7998 | dice_pos: 0.3869 | IoU: 0.2932\n",
            "\n"
          ],
          "name": "stdout"
        },
        {
          "output_type": "stream",
          "text": [
            "/usr/local/lib/python3.7/dist-packages/ipykernel_launcher.py:96: RuntimeWarning: Mean of empty slice\n",
            "/usr/local/lib/python3.7/dist-packages/ipykernel_launcher.py:97: RuntimeWarning: Mean of empty slice\n"
          ],
          "name": "stderr"
        },
        {
          "output_type": "stream",
          "text": [
            "Loss: 1.3534 | dice: 0.5316 | dice_neg: 0.6452 | dice_pos: 0.4096 | IoU: 0.3068\n",
            "Loss: 1.2764 | dice: 0.6329 | dice_neg: 0.8064 | dice_pos: 0.4116 | IoU: 0.3140\n",
            "\n"
          ],
          "name": "stdout"
        },
        {
          "output_type": "stream",
          "text": [
            "/usr/local/lib/python3.7/dist-packages/ipykernel_launcher.py:96: RuntimeWarning: Mean of empty slice\n",
            "/usr/local/lib/python3.7/dist-packages/ipykernel_launcher.py:97: RuntimeWarning: Mean of empty slice\n"
          ],
          "name": "stderr"
        },
        {
          "output_type": "stream",
          "text": [
            "Loss: 1.2697 | dice: 0.5635 | dice_neg: 0.6932 | dice_pos: 0.4222 | IoU: 0.3175\n",
            "Loss: 1.3160 | dice: 0.6831 | dice_neg: 0.8714 | dice_pos: 0.4060 | IoU: 0.3098\n",
            "\n"
          ],
          "name": "stdout"
        },
        {
          "output_type": "stream",
          "text": [
            "/usr/local/lib/python3.7/dist-packages/ipykernel_launcher.py:96: RuntimeWarning: Mean of empty slice\n",
            "/usr/local/lib/python3.7/dist-packages/ipykernel_launcher.py:97: RuntimeWarning: Mean of empty slice\n"
          ],
          "name": "stderr"
        },
        {
          "output_type": "stream",
          "text": [
            "Loss: 1.1658 | dice: 0.6129 | dice_neg: 0.7637 | dice_pos: 0.4389 | IoU: 0.3338\n",
            "Loss: 1.2856 | dice: 0.6078 | dice_neg: 0.7427 | dice_pos: 0.4086 | IoU: 0.3122\n",
            "\n"
          ],
          "name": "stdout"
        },
        {
          "output_type": "stream",
          "text": [
            "/usr/local/lib/python3.7/dist-packages/ipykernel_launcher.py:96: RuntimeWarning: Mean of empty slice\n",
            "/usr/local/lib/python3.7/dist-packages/ipykernel_launcher.py:97: RuntimeWarning: Mean of empty slice\n"
          ],
          "name": "stderr"
        },
        {
          "output_type": "stream",
          "text": [
            "Loss: 1.1849 | dice: 0.5970 | dice_neg: 0.7309 | dice_pos: 0.4506 | IoU: 0.3421\n",
            "Loss: 1.1976 | dice: 0.6284 | dice_neg: 0.7600 | dice_pos: 0.4549 | IoU: 0.3540\n",
            "-------OH YEAH---------\n",
            "-----------------------\n",
            "\n"
          ],
          "name": "stdout"
        },
        {
          "output_type": "stream",
          "text": [
            "/usr/local/lib/python3.7/dist-packages/ipykernel_launcher.py:96: RuntimeWarning: Mean of empty slice\n",
            "/usr/local/lib/python3.7/dist-packages/ipykernel_launcher.py:97: RuntimeWarning: Mean of empty slice\n"
          ],
          "name": "stderr"
        },
        {
          "output_type": "stream",
          "text": [
            "Loss: 1.2759 | dice: 0.6097 | dice_neg: 0.7489 | dice_pos: 0.4415 | IoU: 0.3389\n",
            "Loss: 1.2149 | dice: 0.5980 | dice_neg: 0.7048 | dice_pos: 0.4574 | IoU: 0.3478\n",
            "\n"
          ],
          "name": "stdout"
        },
        {
          "output_type": "stream",
          "text": [
            "/usr/local/lib/python3.7/dist-packages/ipykernel_launcher.py:96: RuntimeWarning: Mean of empty slice\n",
            "/usr/local/lib/python3.7/dist-packages/ipykernel_launcher.py:97: RuntimeWarning: Mean of empty slice\n"
          ],
          "name": "stderr"
        },
        {
          "output_type": "stream",
          "text": [
            "Loss: 1.1410 | dice: 0.6284 | dice_neg: 0.7768 | dice_pos: 0.4482 | IoU: 0.3384\n",
            "Loss: 1.1606 | dice: 0.6659 | dice_neg: 0.8249 | dice_pos: 0.4513 | IoU: 0.3518\n",
            "-------OH YEAH---------\n",
            "-----------------------\n",
            "\n"
          ],
          "name": "stdout"
        },
        {
          "output_type": "stream",
          "text": [
            "/usr/local/lib/python3.7/dist-packages/ipykernel_launcher.py:96: RuntimeWarning: Mean of empty slice\n",
            "/usr/local/lib/python3.7/dist-packages/ipykernel_launcher.py:97: RuntimeWarning: Mean of empty slice\n"
          ],
          "name": "stderr"
        },
        {
          "output_type": "stream",
          "text": [
            "Loss: 1.1789 | dice: 0.6281 | dice_neg: 0.7761 | dice_pos: 0.4522 | IoU: 0.3450\n",
            "Loss: 1.2763 | dice: 0.5429 | dice_neg: 0.6373 | dice_pos: 0.4125 | IoU: 0.3080\n",
            "\n"
          ],
          "name": "stdout"
        },
        {
          "output_type": "stream",
          "text": [
            "/usr/local/lib/python3.7/dist-packages/ipykernel_launcher.py:96: RuntimeWarning: Mean of empty slice\n",
            "/usr/local/lib/python3.7/dist-packages/ipykernel_launcher.py:97: RuntimeWarning: Mean of empty slice\n"
          ],
          "name": "stderr"
        },
        {
          "output_type": "stream",
          "text": [
            "Loss: 1.2485 | dice: 0.5821 | dice_neg: 0.7071 | dice_pos: 0.4367 | IoU: 0.3311\n",
            "Loss: 1.3021 | dice: 0.6500 | dice_neg: 0.8183 | dice_pos: 0.4227 | IoU: 0.3303\n",
            "\n"
          ],
          "name": "stdout"
        },
        {
          "output_type": "stream",
          "text": [
            "/usr/local/lib/python3.7/dist-packages/ipykernel_launcher.py:96: RuntimeWarning: Mean of empty slice\n",
            "/usr/local/lib/python3.7/dist-packages/ipykernel_launcher.py:97: RuntimeWarning: Mean of empty slice\n"
          ],
          "name": "stderr"
        },
        {
          "output_type": "stream",
          "text": [
            "Loss: 1.1116 | dice: 0.6353 | dice_neg: 0.7921 | dice_pos: 0.4552 | IoU: 0.3497\n",
            "Loss: 1.3705 | dice: 0.6839 | dice_neg: 0.8600 | dice_pos: 0.4210 | IoU: 0.3322\n",
            "\n"
          ],
          "name": "stdout"
        },
        {
          "output_type": "stream",
          "text": [
            "/usr/local/lib/python3.7/dist-packages/ipykernel_launcher.py:96: RuntimeWarning: Mean of empty slice\n",
            "/usr/local/lib/python3.7/dist-packages/ipykernel_launcher.py:97: RuntimeWarning: Mean of empty slice\n"
          ],
          "name": "stderr"
        },
        {
          "output_type": "stream",
          "text": [
            "Loss: 1.0639 | dice: 0.6436 | dice_neg: 0.7962 | dice_pos: 0.4669 | IoU: 0.3573\n",
            "Loss: 1.1901 | dice: 0.6598 | dice_neg: 0.8167 | dice_pos: 0.4448 | IoU: 0.3402\n",
            "\n"
          ],
          "name": "stdout"
        },
        {
          "output_type": "stream",
          "text": [
            "/usr/local/lib/python3.7/dist-packages/ipykernel_launcher.py:96: RuntimeWarning: Mean of empty slice\n",
            "/usr/local/lib/python3.7/dist-packages/ipykernel_launcher.py:97: RuntimeWarning: Mean of empty slice\n"
          ],
          "name": "stderr"
        },
        {
          "output_type": "stream",
          "text": [
            "Loss: 1.1063 | dice: 0.6454 | dice_neg: 0.7931 | dice_pos: 0.4619 | IoU: 0.3539\n",
            "Loss: 1.2635 | dice: 0.5610 | dice_neg: 0.6323 | dice_pos: 0.4435 | IoU: 0.3292\n",
            "\n"
          ],
          "name": "stdout"
        },
        {
          "output_type": "stream",
          "text": [
            "/usr/local/lib/python3.7/dist-packages/ipykernel_launcher.py:96: RuntimeWarning: Mean of empty slice\n",
            "/usr/local/lib/python3.7/dist-packages/ipykernel_launcher.py:97: RuntimeWarning: Mean of empty slice\n"
          ],
          "name": "stderr"
        },
        {
          "output_type": "stream",
          "text": [
            "Loss: 1.1440 | dice: 0.6203 | dice_neg: 0.7604 | dice_pos: 0.4549 | IoU: 0.3474\n",
            "Loss: 1.2105 | dice: 0.5967 | dice_neg: 0.6873 | dice_pos: 0.4732 | IoU: 0.3669\n",
            "\n"
          ],
          "name": "stdout"
        },
        {
          "output_type": "stream",
          "text": [
            "/usr/local/lib/python3.7/dist-packages/ipykernel_launcher.py:96: RuntimeWarning: Mean of empty slice\n",
            "/usr/local/lib/python3.7/dist-packages/ipykernel_launcher.py:97: RuntimeWarning: Mean of empty slice\n"
          ],
          "name": "stderr"
        },
        {
          "output_type": "stream",
          "text": [
            "Loss: 1.1923 | dice: 0.6026 | dice_neg: 0.7288 | dice_pos: 0.4460 | IoU: 0.3406\n",
            "Loss: 1.2995 | dice: 0.4585 | dice_neg: 0.4846 | dice_pos: 0.4203 | IoU: 0.3190\n",
            "\n"
          ],
          "name": "stdout"
        },
        {
          "output_type": "stream",
          "text": [
            "/usr/local/lib/python3.7/dist-packages/ipykernel_launcher.py:96: RuntimeWarning: Mean of empty slice\n",
            "/usr/local/lib/python3.7/dist-packages/ipykernel_launcher.py:97: RuntimeWarning: Mean of empty slice\n"
          ],
          "name": "stderr"
        },
        {
          "output_type": "stream",
          "text": [
            "Loss: 1.2115 | dice: 0.6226 | dice_neg: 0.7627 | dice_pos: 0.4523 | IoU: 0.3486\n",
            "Loss: 1.2276 | dice: 0.6012 | dice_neg: 0.6931 | dice_pos: 0.4489 | IoU: 0.3485\n",
            "\n"
          ],
          "name": "stdout"
        },
        {
          "output_type": "stream",
          "text": [
            "/usr/local/lib/python3.7/dist-packages/ipykernel_launcher.py:96: RuntimeWarning: Mean of empty slice\n",
            "/usr/local/lib/python3.7/dist-packages/ipykernel_launcher.py:97: RuntimeWarning: Mean of empty slice\n"
          ],
          "name": "stderr"
        },
        {
          "output_type": "stream",
          "text": [
            "Loss: 1.2094 | dice: 0.6246 | dice_neg: 0.7661 | dice_pos: 0.4489 | IoU: 0.3436\n",
            "Loss: 1.2674 | dice: 0.5761 | dice_neg: 0.6537 | dice_pos: 0.4549 | IoU: 0.3506\n",
            "\n"
          ],
          "name": "stdout"
        },
        {
          "output_type": "stream",
          "text": [
            "/usr/local/lib/python3.7/dist-packages/ipykernel_launcher.py:96: RuntimeWarning: Mean of empty slice\n",
            "/usr/local/lib/python3.7/dist-packages/ipykernel_launcher.py:97: RuntimeWarning: Mean of empty slice\n"
          ],
          "name": "stderr"
        },
        {
          "output_type": "stream",
          "text": [
            "Loss: 1.2130 | dice: 0.6137 | dice_neg: 0.7496 | dice_pos: 0.4587 | IoU: 0.3520\n",
            "Loss: 1.2572 | dice: 0.6134 | dice_neg: 0.7437 | dice_pos: 0.4216 | IoU: 0.3222\n",
            "\n"
          ],
          "name": "stdout"
        },
        {
          "output_type": "stream",
          "text": [
            "/usr/local/lib/python3.7/dist-packages/ipykernel_launcher.py:96: RuntimeWarning: Mean of empty slice\n",
            "/usr/local/lib/python3.7/dist-packages/ipykernel_launcher.py:97: RuntimeWarning: Mean of empty slice\n"
          ],
          "name": "stderr"
        },
        {
          "output_type": "stream",
          "text": [
            "Loss: 1.1268 | dice: 0.6332 | dice_neg: 0.7865 | dice_pos: 0.4560 | IoU: 0.3500\n",
            "Loss: 1.3576 | dice: 0.6951 | dice_neg: 0.9367 | dice_pos: 0.3642 | IoU: 0.2858\n",
            "\n"
          ],
          "name": "stdout"
        },
        {
          "output_type": "stream",
          "text": [
            "/usr/local/lib/python3.7/dist-packages/ipykernel_launcher.py:96: RuntimeWarning: Mean of empty slice\n",
            "/usr/local/lib/python3.7/dist-packages/ipykernel_launcher.py:97: RuntimeWarning: Mean of empty slice\n"
          ],
          "name": "stderr"
        },
        {
          "output_type": "stream",
          "text": [
            "Loss: 1.2883 | dice: 0.6119 | dice_neg: 0.7574 | dice_pos: 0.4417 | IoU: 0.3410\n",
            "Loss: 1.3042 | dice: 0.6343 | dice_neg: 0.7778 | dice_pos: 0.4282 | IoU: 0.3294\n",
            "\n"
          ],
          "name": "stdout"
        },
        {
          "output_type": "stream",
          "text": [
            "/usr/local/lib/python3.7/dist-packages/ipykernel_launcher.py:96: RuntimeWarning: Mean of empty slice\n",
            "/usr/local/lib/python3.7/dist-packages/ipykernel_launcher.py:97: RuntimeWarning: Mean of empty slice\n"
          ],
          "name": "stderr"
        },
        {
          "output_type": "stream",
          "text": [
            "Loss: 1.1950 | dice: 0.6364 | dice_neg: 0.7882 | dice_pos: 0.4451 | IoU: 0.3401\n",
            "Loss: 1.2585 | dice: 0.6237 | dice_neg: 0.7537 | dice_pos: 0.4480 | IoU: 0.3451\n",
            "\n"
          ],
          "name": "stdout"
        },
        {
          "output_type": "stream",
          "text": [
            "/usr/local/lib/python3.7/dist-packages/ipykernel_launcher.py:96: RuntimeWarning: Mean of empty slice\n",
            "/usr/local/lib/python3.7/dist-packages/ipykernel_launcher.py:97: RuntimeWarning: Mean of empty slice\n"
          ],
          "name": "stderr"
        },
        {
          "output_type": "stream",
          "text": [
            "Loss: 1.2842 | dice: 0.5477 | dice_neg: 0.6498 | dice_pos: 0.4332 | IoU: 0.3272\n",
            "Loss: 1.1910 | dice: 0.6572 | dice_neg: 0.8409 | dice_pos: 0.4249 | IoU: 0.3235\n",
            "\n"
          ],
          "name": "stdout"
        },
        {
          "output_type": "stream",
          "text": [
            "/usr/local/lib/python3.7/dist-packages/ipykernel_launcher.py:96: RuntimeWarning: Mean of empty slice\n",
            "/usr/local/lib/python3.7/dist-packages/ipykernel_launcher.py:97: RuntimeWarning: Mean of empty slice\n"
          ],
          "name": "stderr"
        },
        {
          "output_type": "stream",
          "text": [
            "Loss: 1.1279 | dice: 0.6199 | dice_neg: 0.7647 | dice_pos: 0.4496 | IoU: 0.3462\n",
            "Loss: 1.1808 | dice: 0.6645 | dice_neg: 0.8248 | dice_pos: 0.4272 | IoU: 0.3318\n",
            "\n"
          ],
          "name": "stdout"
        },
        {
          "output_type": "stream",
          "text": [
            "/usr/local/lib/python3.7/dist-packages/ipykernel_launcher.py:96: RuntimeWarning: Mean of empty slice\n",
            "/usr/local/lib/python3.7/dist-packages/ipykernel_launcher.py:97: RuntimeWarning: Mean of empty slice\n"
          ],
          "name": "stderr"
        },
        {
          "output_type": "stream",
          "text": [
            "Loss: 1.1769 | dice: 0.6251 | dice_neg: 0.7700 | dice_pos: 0.4554 | IoU: 0.3506\n",
            "Loss: 1.2347 | dice: 0.6658 | dice_neg: 0.8526 | dice_pos: 0.4014 | IoU: 0.3063\n",
            "\n"
          ],
          "name": "stdout"
        },
        {
          "output_type": "stream",
          "text": [
            "/usr/local/lib/python3.7/dist-packages/ipykernel_launcher.py:96: RuntimeWarning: Mean of empty slice\n",
            "/usr/local/lib/python3.7/dist-packages/ipykernel_launcher.py:97: RuntimeWarning: Mean of empty slice\n"
          ],
          "name": "stderr"
        },
        {
          "output_type": "stream",
          "text": [
            "Loss: 1.1096 | dice: 0.6307 | dice_neg: 0.7681 | dice_pos: 0.4682 | IoU: 0.3639\n",
            "Loss: 1.2922 | dice: 0.6129 | dice_neg: 0.7699 | dice_pos: 0.3950 | IoU: 0.3025\n",
            "\n"
          ],
          "name": "stdout"
        },
        {
          "output_type": "stream",
          "text": [
            "/usr/local/lib/python3.7/dist-packages/ipykernel_launcher.py:96: RuntimeWarning: Mean of empty slice\n",
            "/usr/local/lib/python3.7/dist-packages/ipykernel_launcher.py:97: RuntimeWarning: Mean of empty slice\n"
          ],
          "name": "stderr"
        },
        {
          "output_type": "stream",
          "text": [
            "Loss: 1.1088 | dice: 0.6143 | dice_neg: 0.7406 | dice_pos: 0.4705 | IoU: 0.3606\n",
            "Loss: 1.2817 | dice: 0.6846 | dice_neg: 0.8870 | dice_pos: 0.4098 | IoU: 0.3174\n",
            "\n"
          ],
          "name": "stdout"
        },
        {
          "output_type": "stream",
          "text": [
            "/usr/local/lib/python3.7/dist-packages/ipykernel_launcher.py:96: RuntimeWarning: Mean of empty slice\n",
            "/usr/local/lib/python3.7/dist-packages/ipykernel_launcher.py:97: RuntimeWarning: Mean of empty slice\n"
          ],
          "name": "stderr"
        },
        {
          "output_type": "stream",
          "text": [
            "Loss: 1.1148 | dice: 0.6539 | dice_neg: 0.8162 | dice_pos: 0.4551 | IoU: 0.3504\n",
            "Loss: 1.2771 | dice: 0.6272 | dice_neg: 0.7466 | dice_pos: 0.4387 | IoU: 0.3394\n",
            "\n"
          ],
          "name": "stdout"
        },
        {
          "output_type": "stream",
          "text": [
            "/usr/local/lib/python3.7/dist-packages/ipykernel_launcher.py:96: RuntimeWarning: Mean of empty slice\n",
            "/usr/local/lib/python3.7/dist-packages/ipykernel_launcher.py:97: RuntimeWarning: Mean of empty slice\n"
          ],
          "name": "stderr"
        },
        {
          "output_type": "stream",
          "text": [
            "Loss: 1.1150 | dice: 0.6633 | dice_neg: 0.8182 | dice_pos: 0.4700 | IoU: 0.3653\n",
            "Loss: 1.1177 | dice: 0.6747 | dice_neg: 0.8473 | dice_pos: 0.4554 | IoU: 0.3536\n",
            "-------OH YEAH---------\n",
            "-----------------------\n",
            "\n"
          ],
          "name": "stdout"
        },
        {
          "output_type": "stream",
          "text": [
            "/usr/local/lib/python3.7/dist-packages/ipykernel_launcher.py:96: RuntimeWarning: Mean of empty slice\n",
            "/usr/local/lib/python3.7/dist-packages/ipykernel_launcher.py:97: RuntimeWarning: Mean of empty slice\n"
          ],
          "name": "stderr"
        },
        {
          "output_type": "stream",
          "text": [
            "Loss: 1.0248 | dice: 0.6667 | dice_neg: 0.8192 | dice_pos: 0.4787 | IoU: 0.3672\n",
            "Loss: 1.2030 | dice: 0.6934 | dice_neg: 0.8749 | dice_pos: 0.4391 | IoU: 0.3453\n",
            "\n"
          ],
          "name": "stdout"
        },
        {
          "output_type": "stream",
          "text": [
            "/usr/local/lib/python3.7/dist-packages/ipykernel_launcher.py:96: RuntimeWarning: Mean of empty slice\n",
            "/usr/local/lib/python3.7/dist-packages/ipykernel_launcher.py:97: RuntimeWarning: Mean of empty slice\n"
          ],
          "name": "stderr"
        },
        {
          "output_type": "stream",
          "text": [
            "Loss: 1.1125 | dice: 0.6482 | dice_neg: 0.7955 | dice_pos: 0.4650 | IoU: 0.3578\n",
            "Loss: 1.4464 | dice: 0.5066 | dice_neg: 0.5366 | dice_pos: 0.4554 | IoU: 0.3504\n",
            "\n"
          ],
          "name": "stdout"
        },
        {
          "output_type": "stream",
          "text": [
            "/usr/local/lib/python3.7/dist-packages/ipykernel_launcher.py:96: RuntimeWarning: Mean of empty slice\n",
            "/usr/local/lib/python3.7/dist-packages/ipykernel_launcher.py:97: RuntimeWarning: Mean of empty slice\n"
          ],
          "name": "stderr"
        },
        {
          "output_type": "stream",
          "text": [
            "Loss: 1.0750 | dice: 0.6299 | dice_neg: 0.7692 | dice_pos: 0.4649 | IoU: 0.3547\n",
            "Loss: 1.2953 | dice: 0.6390 | dice_neg: 0.7639 | dice_pos: 0.4506 | IoU: 0.3518\n",
            "\n"
          ],
          "name": "stdout"
        },
        {
          "output_type": "stream",
          "text": [
            "/usr/local/lib/python3.7/dist-packages/ipykernel_launcher.py:96: RuntimeWarning: Mean of empty slice\n",
            "/usr/local/lib/python3.7/dist-packages/ipykernel_launcher.py:97: RuntimeWarning: Mean of empty slice\n"
          ],
          "name": "stderr"
        },
        {
          "output_type": "stream",
          "text": [
            "Loss: 1.0727 | dice: 0.6556 | dice_neg: 0.8056 | dice_pos: 0.4819 | IoU: 0.3721\n",
            "Loss: 1.2247 | dice: 0.6115 | dice_neg: 0.7558 | dice_pos: 0.4245 | IoU: 0.3169\n",
            "\n"
          ],
          "name": "stdout"
        },
        {
          "output_type": "stream",
          "text": [
            "/usr/local/lib/python3.7/dist-packages/ipykernel_launcher.py:96: RuntimeWarning: Mean of empty slice\n",
            "/usr/local/lib/python3.7/dist-packages/ipykernel_launcher.py:97: RuntimeWarning: Mean of empty slice\n"
          ],
          "name": "stderr"
        },
        {
          "output_type": "stream",
          "text": [
            "Loss: 0.9644 | dice: 0.6810 | dice_neg: 0.8390 | dice_pos: 0.4850 | IoU: 0.3758\n",
            "Loss: 1.2247 | dice: 0.6882 | dice_neg: 0.8739 | dice_pos: 0.4269 | IoU: 0.3348\n",
            "\n"
          ],
          "name": "stdout"
        },
        {
          "output_type": "stream",
          "text": [
            "/usr/local/lib/python3.7/dist-packages/ipykernel_launcher.py:96: RuntimeWarning: Mean of empty slice\n",
            "/usr/local/lib/python3.7/dist-packages/ipykernel_launcher.py:97: RuntimeWarning: Mean of empty slice\n"
          ],
          "name": "stderr"
        },
        {
          "output_type": "stream",
          "text": [
            "Loss: 1.0499 | dice: 0.6563 | dice_neg: 0.7994 | dice_pos: 0.4811 | IoU: 0.3699\n",
            "Loss: 1.4839 | dice: 0.6831 | dice_neg: 0.8805 | dice_pos: 0.3992 | IoU: 0.3117\n",
            "\n"
          ],
          "name": "stdout"
        },
        {
          "output_type": "stream",
          "text": [
            "/usr/local/lib/python3.7/dist-packages/ipykernel_launcher.py:96: RuntimeWarning: Mean of empty slice\n",
            "/usr/local/lib/python3.7/dist-packages/ipykernel_launcher.py:97: RuntimeWarning: Mean of empty slice\n"
          ],
          "name": "stderr"
        },
        {
          "output_type": "stream",
          "text": [
            "Loss: 1.0811 | dice: 0.6435 | dice_neg: 0.7785 | dice_pos: 0.4773 | IoU: 0.3693\n",
            "Loss: 1.4608 | dice: 0.6286 | dice_neg: 0.7773 | dice_pos: 0.4082 | IoU: 0.3190\n",
            "\n"
          ],
          "name": "stdout"
        },
        {
          "output_type": "stream",
          "text": [
            "/usr/local/lib/python3.7/dist-packages/ipykernel_launcher.py:96: RuntimeWarning: Mean of empty slice\n",
            "/usr/local/lib/python3.7/dist-packages/ipykernel_launcher.py:97: RuntimeWarning: Mean of empty slice\n"
          ],
          "name": "stderr"
        },
        {
          "output_type": "stream",
          "text": [
            "Loss: 1.0407 | dice: 0.6585 | dice_neg: 0.8053 | dice_pos: 0.4776 | IoU: 0.3671\n",
            "Loss: 1.2042 | dice: 0.6745 | dice_neg: 0.8354 | dice_pos: 0.4532 | IoU: 0.3546\n",
            "\n"
          ],
          "name": "stdout"
        },
        {
          "output_type": "stream",
          "text": [
            "/usr/local/lib/python3.7/dist-packages/ipykernel_launcher.py:96: RuntimeWarning: Mean of empty slice\n",
            "/usr/local/lib/python3.7/dist-packages/ipykernel_launcher.py:97: RuntimeWarning: Mean of empty slice\n"
          ],
          "name": "stderr"
        },
        {
          "output_type": "stream",
          "text": [
            "Loss: 1.0537 | dice: 0.6613 | dice_neg: 0.8102 | dice_pos: 0.4820 | IoU: 0.3734\n",
            "Loss: 1.4121 | dice: 0.6675 | dice_neg: 0.8615 | dice_pos: 0.3855 | IoU: 0.3014\n",
            "\n"
          ],
          "name": "stdout"
        },
        {
          "output_type": "stream",
          "text": [
            "/usr/local/lib/python3.7/dist-packages/ipykernel_launcher.py:96: RuntimeWarning: Mean of empty slice\n",
            "/usr/local/lib/python3.7/dist-packages/ipykernel_launcher.py:97: RuntimeWarning: Mean of empty slice\n"
          ],
          "name": "stderr"
        },
        {
          "output_type": "stream",
          "text": [
            "Loss: 0.9908 | dice: 0.6850 | dice_neg: 0.8516 | dice_pos: 0.4806 | IoU: 0.3713\n",
            "Loss: 1.2375 | dice: 0.6894 | dice_neg: 0.8740 | dice_pos: 0.4359 | IoU: 0.3471\n",
            "\n"
          ],
          "name": "stdout"
        },
        {
          "output_type": "stream",
          "text": [
            "/usr/local/lib/python3.7/dist-packages/ipykernel_launcher.py:96: RuntimeWarning: Mean of empty slice\n",
            "/usr/local/lib/python3.7/dist-packages/ipykernel_launcher.py:97: RuntimeWarning: Mean of empty slice\n"
          ],
          "name": "stderr"
        },
        {
          "output_type": "stream",
          "text": [
            "Loss: 1.0259 | dice: 0.6945 | dice_neg: 0.8583 | dice_pos: 0.4821 | IoU: 0.3776\n",
            "Loss: 1.2461 | dice: 0.6758 | dice_neg: 0.8504 | dice_pos: 0.4329 | IoU: 0.3393\n",
            "\n"
          ],
          "name": "stdout"
        },
        {
          "output_type": "stream",
          "text": [
            "/usr/local/lib/python3.7/dist-packages/ipykernel_launcher.py:96: RuntimeWarning: Mean of empty slice\n",
            "/usr/local/lib/python3.7/dist-packages/ipykernel_launcher.py:97: RuntimeWarning: Mean of empty slice\n"
          ],
          "name": "stderr"
        },
        {
          "output_type": "stream",
          "text": [
            "Loss: 1.1009 | dice: 0.6719 | dice_neg: 0.8204 | dice_pos: 0.4741 | IoU: 0.3736\n",
            "Loss: 1.1524 | dice: 0.6784 | dice_neg: 0.8477 | dice_pos: 0.4442 | IoU: 0.3497\n",
            "\n"
          ],
          "name": "stdout"
        },
        {
          "output_type": "stream",
          "text": [
            "/usr/local/lib/python3.7/dist-packages/ipykernel_launcher.py:96: RuntimeWarning: Mean of empty slice\n",
            "/usr/local/lib/python3.7/dist-packages/ipykernel_launcher.py:97: RuntimeWarning: Mean of empty slice\n"
          ],
          "name": "stderr"
        },
        {
          "output_type": "stream",
          "text": [
            "Loss: 0.9444 | dice: 0.6904 | dice_neg: 0.8479 | dice_pos: 0.4954 | IoU: 0.3843\n",
            "Loss: 1.2217 | dice: 0.6866 | dice_neg: 0.8750 | dice_pos: 0.4121 | IoU: 0.3186\n",
            "\n"
          ],
          "name": "stdout"
        },
        {
          "output_type": "stream",
          "text": [
            "/usr/local/lib/python3.7/dist-packages/ipykernel_launcher.py:96: RuntimeWarning: Mean of empty slice\n",
            "/usr/local/lib/python3.7/dist-packages/ipykernel_launcher.py:97: RuntimeWarning: Mean of empty slice\n"
          ],
          "name": "stderr"
        },
        {
          "output_type": "stream",
          "text": [
            "Loss: 0.9802 | dice: 0.6793 | dice_neg: 0.8303 | dice_pos: 0.4839 | IoU: 0.3770\n",
            "Loss: 1.3440 | dice: 0.6947 | dice_neg: 0.9097 | dice_pos: 0.3996 | IoU: 0.3141\n",
            "\n"
          ],
          "name": "stdout"
        },
        {
          "output_type": "stream",
          "text": [
            "/usr/local/lib/python3.7/dist-packages/ipykernel_launcher.py:96: RuntimeWarning: Mean of empty slice\n",
            "/usr/local/lib/python3.7/dist-packages/ipykernel_launcher.py:97: RuntimeWarning: Mean of empty slice\n"
          ],
          "name": "stderr"
        },
        {
          "output_type": "stream",
          "text": [
            "Loss: 1.0222 | dice: 0.6834 | dice_neg: 0.8518 | dice_pos: 0.4742 | IoU: 0.3691\n",
            "Loss: 1.4373 | dice: 0.6897 | dice_neg: 0.9071 | dice_pos: 0.3749 | IoU: 0.2967\n",
            "\n"
          ],
          "name": "stdout"
        },
        {
          "output_type": "stream",
          "text": [
            "/usr/local/lib/python3.7/dist-packages/ipykernel_launcher.py:96: RuntimeWarning: Mean of empty slice\n",
            "/usr/local/lib/python3.7/dist-packages/ipykernel_launcher.py:97: RuntimeWarning: Mean of empty slice\n"
          ],
          "name": "stderr"
        },
        {
          "output_type": "stream",
          "text": [
            "Loss: 0.9817 | dice: 0.6816 | dice_neg: 0.8312 | dice_pos: 0.4946 | IoU: 0.3845\n",
            "Loss: 1.1906 | dice: 0.6996 | dice_neg: 0.9039 | dice_pos: 0.4221 | IoU: 0.3329\n",
            "\n"
          ],
          "name": "stdout"
        },
        {
          "output_type": "stream",
          "text": [
            "/usr/local/lib/python3.7/dist-packages/ipykernel_launcher.py:96: RuntimeWarning: Mean of empty slice\n",
            "/usr/local/lib/python3.7/dist-packages/ipykernel_launcher.py:97: RuntimeWarning: Mean of empty slice\n"
          ],
          "name": "stderr"
        },
        {
          "output_type": "stream",
          "text": [
            "Loss: 1.0560 | dice: 0.6795 | dice_neg: 0.8438 | dice_pos: 0.4787 | IoU: 0.3759\n",
            "Loss: 1.2936 | dice: 0.6862 | dice_neg: 0.8980 | dice_pos: 0.3858 | IoU: 0.3004\n",
            "\n"
          ],
          "name": "stdout"
        },
        {
          "output_type": "stream",
          "text": [
            "/usr/local/lib/python3.7/dist-packages/ipykernel_launcher.py:96: RuntimeWarning: Mean of empty slice\n",
            "/usr/local/lib/python3.7/dist-packages/ipykernel_launcher.py:97: RuntimeWarning: Mean of empty slice\n"
          ],
          "name": "stderr"
        },
        {
          "output_type": "stream",
          "text": [
            "Loss: 0.9565 | dice: 0.7039 | dice_neg: 0.8652 | dice_pos: 0.4934 | IoU: 0.3851\n",
            "Loss: 1.2638 | dice: 0.6642 | dice_neg: 0.8177 | dice_pos: 0.4390 | IoU: 0.3387\n",
            "\n"
          ],
          "name": "stdout"
        },
        {
          "output_type": "stream",
          "text": [
            "/usr/local/lib/python3.7/dist-packages/ipykernel_launcher.py:96: RuntimeWarning: Mean of empty slice\n",
            "/usr/local/lib/python3.7/dist-packages/ipykernel_launcher.py:97: RuntimeWarning: Mean of empty slice\n"
          ],
          "name": "stderr"
        },
        {
          "output_type": "stream",
          "text": [
            "Loss: 1.0838 | dice: 0.6959 | dice_neg: 0.8584 | dice_pos: 0.4820 | IoU: 0.3800\n",
            "Loss: 1.2939 | dice: 0.6977 | dice_neg: 0.8850 | dice_pos: 0.4145 | IoU: 0.3289\n",
            "\n"
          ],
          "name": "stdout"
        },
        {
          "output_type": "stream",
          "text": [
            "/usr/local/lib/python3.7/dist-packages/ipykernel_launcher.py:96: RuntimeWarning: Mean of empty slice\n",
            "/usr/local/lib/python3.7/dist-packages/ipykernel_launcher.py:97: RuntimeWarning: Mean of empty slice\n"
          ],
          "name": "stderr"
        },
        {
          "output_type": "stream",
          "text": [
            "Loss: 0.9734 | dice: 0.6925 | dice_neg: 0.8504 | dice_pos: 0.4918 | IoU: 0.3835\n",
            "Loss: 1.2147 | dice: 0.6881 | dice_neg: 0.8944 | dice_pos: 0.4109 | IoU: 0.3252\n",
            "\n"
          ],
          "name": "stdout"
        },
        {
          "output_type": "stream",
          "text": [
            "/usr/local/lib/python3.7/dist-packages/ipykernel_launcher.py:96: RuntimeWarning: Mean of empty slice\n",
            "/usr/local/lib/python3.7/dist-packages/ipykernel_launcher.py:97: RuntimeWarning: Mean of empty slice\n"
          ],
          "name": "stderr"
        },
        {
          "output_type": "stream",
          "text": [
            "Loss: 1.1253 | dice: 0.6653 | dice_neg: 0.8161 | dice_pos: 0.4732 | IoU: 0.3724\n",
            "Loss: 1.2526 | dice: 0.5607 | dice_neg: 0.6602 | dice_pos: 0.4191 | IoU: 0.3249\n",
            "\n"
          ],
          "name": "stdout"
        },
        {
          "output_type": "stream",
          "text": [
            "/usr/local/lib/python3.7/dist-packages/ipykernel_launcher.py:96: RuntimeWarning: Mean of empty slice\n",
            "/usr/local/lib/python3.7/dist-packages/ipykernel_launcher.py:97: RuntimeWarning: Mean of empty slice\n"
          ],
          "name": "stderr"
        },
        {
          "output_type": "stream",
          "text": [
            "Loss: 1.1193 | dice: 0.6610 | dice_neg: 0.8144 | dice_pos: 0.4675 | IoU: 0.3655\n",
            "Loss: 1.3648 | dice: 0.6717 | dice_neg: 0.8561 | dice_pos: 0.4096 | IoU: 0.3208\n",
            "\n"
          ],
          "name": "stdout"
        },
        {
          "output_type": "stream",
          "text": [
            "/usr/local/lib/python3.7/dist-packages/ipykernel_launcher.py:96: RuntimeWarning: Mean of empty slice\n",
            "/usr/local/lib/python3.7/dist-packages/ipykernel_launcher.py:97: RuntimeWarning: Mean of empty slice\n"
          ],
          "name": "stderr"
        },
        {
          "output_type": "stream",
          "text": [
            "Loss: 1.0692 | dice: 0.6830 | dice_neg: 0.8400 | dice_pos: 0.4864 | IoU: 0.3799\n",
            "Loss: 1.4619 | dice: 0.6883 | dice_neg: 0.9346 | dice_pos: 0.3419 | IoU: 0.2664\n",
            "\n"
          ],
          "name": "stdout"
        },
        {
          "output_type": "stream",
          "text": [
            "/usr/local/lib/python3.7/dist-packages/ipykernel_launcher.py:96: RuntimeWarning: Mean of empty slice\n",
            "/usr/local/lib/python3.7/dist-packages/ipykernel_launcher.py:97: RuntimeWarning: Mean of empty slice\n"
          ],
          "name": "stderr"
        },
        {
          "output_type": "stream",
          "text": [
            "Loss: 1.0360 | dice: 0.7098 | dice_neg: 0.8772 | dice_pos: 0.4895 | IoU: 0.3811\n",
            "Loss: 1.1950 | dice: 0.6736 | dice_neg: 0.8550 | dice_pos: 0.4189 | IoU: 0.3204\n",
            "\n"
          ],
          "name": "stdout"
        },
        {
          "output_type": "stream",
          "text": [
            "/usr/local/lib/python3.7/dist-packages/ipykernel_launcher.py:96: RuntimeWarning: Mean of empty slice\n",
            "/usr/local/lib/python3.7/dist-packages/ipykernel_launcher.py:97: RuntimeWarning: Mean of empty slice\n"
          ],
          "name": "stderr"
        },
        {
          "output_type": "stream",
          "text": [
            "Loss: 0.9521 | dice: 0.6915 | dice_neg: 0.8414 | dice_pos: 0.5091 | IoU: 0.3934\n",
            "Loss: 1.2636 | dice: 0.6750 | dice_neg: 0.8844 | dice_pos: 0.3990 | IoU: 0.3104\n",
            "\n"
          ],
          "name": "stdout"
        },
        {
          "output_type": "stream",
          "text": [
            "/usr/local/lib/python3.7/dist-packages/ipykernel_launcher.py:96: RuntimeWarning: Mean of empty slice\n",
            "/usr/local/lib/python3.7/dist-packages/ipykernel_launcher.py:97: RuntimeWarning: Mean of empty slice\n"
          ],
          "name": "stderr"
        },
        {
          "output_type": "stream",
          "text": [
            "Loss: 0.9957 | dice: 0.6761 | dice_neg: 0.8203 | dice_pos: 0.4936 | IoU: 0.3803\n",
            "Loss: 1.1715 | dice: 0.6717 | dice_neg: 0.8281 | dice_pos: 0.4410 | IoU: 0.3427\n",
            "\n"
          ],
          "name": "stdout"
        },
        {
          "output_type": "stream",
          "text": [
            "/usr/local/lib/python3.7/dist-packages/ipykernel_launcher.py:96: RuntimeWarning: Mean of empty slice\n",
            "/usr/local/lib/python3.7/dist-packages/ipykernel_launcher.py:97: RuntimeWarning: Mean of empty slice\n"
          ],
          "name": "stderr"
        },
        {
          "output_type": "stream",
          "text": [
            "Loss: 1.0159 | dice: 0.6937 | dice_neg: 0.8539 | dice_pos: 0.4848 | IoU: 0.3765\n",
            "Loss: 1.2345 | dice: 0.6620 | dice_neg: 0.8091 | dice_pos: 0.4623 | IoU: 0.3607\n",
            "\n"
          ],
          "name": "stdout"
        },
        {
          "output_type": "stream",
          "text": [
            "/usr/local/lib/python3.7/dist-packages/ipykernel_launcher.py:96: RuntimeWarning: Mean of empty slice\n",
            "/usr/local/lib/python3.7/dist-packages/ipykernel_launcher.py:97: RuntimeWarning: Mean of empty slice\n"
          ],
          "name": "stderr"
        },
        {
          "output_type": "stream",
          "text": [
            "Loss: 1.0262 | dice: 0.6866 | dice_neg: 0.8373 | dice_pos: 0.4906 | IoU: 0.3835\n",
            "Loss: 1.3445 | dice: 0.5937 | dice_neg: 0.7242 | dice_pos: 0.4143 | IoU: 0.3128\n",
            "\n"
          ],
          "name": "stdout"
        },
        {
          "output_type": "stream",
          "text": [
            "/usr/local/lib/python3.7/dist-packages/ipykernel_launcher.py:96: RuntimeWarning: Mean of empty slice\n",
            "/usr/local/lib/python3.7/dist-packages/ipykernel_launcher.py:97: RuntimeWarning: Mean of empty slice\n"
          ],
          "name": "stderr"
        },
        {
          "output_type": "stream",
          "text": [
            "Loss: 0.9413 | dice: 0.7042 | dice_neg: 0.8652 | dice_pos: 0.5045 | IoU: 0.3951\n",
            "Loss: 1.1271 | dice: 0.6959 | dice_neg: 0.8839 | dice_pos: 0.4340 | IoU: 0.3386\n",
            "\n"
          ],
          "name": "stdout"
        },
        {
          "output_type": "stream",
          "text": [
            "/usr/local/lib/python3.7/dist-packages/ipykernel_launcher.py:96: RuntimeWarning: Mean of empty slice\n",
            "/usr/local/lib/python3.7/dist-packages/ipykernel_launcher.py:97: RuntimeWarning: Mean of empty slice\n"
          ],
          "name": "stderr"
        },
        {
          "output_type": "stream",
          "text": [
            "Loss: 0.8753 | dice: 0.7228 | dice_neg: 0.8799 | dice_pos: 0.5194 | IoU: 0.4105\n",
            "Loss: 1.2571 | dice: 0.6635 | dice_neg: 0.8359 | dice_pos: 0.4306 | IoU: 0.3378\n",
            "\n"
          ],
          "name": "stdout"
        },
        {
          "output_type": "stream",
          "text": [
            "/usr/local/lib/python3.7/dist-packages/ipykernel_launcher.py:96: RuntimeWarning: Mean of empty slice\n",
            "/usr/local/lib/python3.7/dist-packages/ipykernel_launcher.py:97: RuntimeWarning: Mean of empty slice\n"
          ],
          "name": "stderr"
        },
        {
          "output_type": "stream",
          "text": [
            "Loss: 0.9584 | dice: 0.7007 | dice_neg: 0.8628 | dice_pos: 0.5002 | IoU: 0.3940\n",
            "Loss: 1.4775 | dice: 0.6368 | dice_neg: 0.7832 | dice_pos: 0.4097 | IoU: 0.3231\n",
            "\n"
          ],
          "name": "stdout"
        },
        {
          "output_type": "stream",
          "text": [
            "/usr/local/lib/python3.7/dist-packages/ipykernel_launcher.py:96: RuntimeWarning: Mean of empty slice\n",
            "/usr/local/lib/python3.7/dist-packages/ipykernel_launcher.py:97: RuntimeWarning: Mean of empty slice\n"
          ],
          "name": "stderr"
        },
        {
          "output_type": "stream",
          "text": [
            "Loss: 0.9232 | dice: 0.6965 | dice_neg: 0.8424 | dice_pos: 0.5129 | IoU: 0.4025\n",
            "Loss: 1.1942 | dice: 0.6729 | dice_neg: 0.8346 | dice_pos: 0.4620 | IoU: 0.3628\n",
            "\n"
          ],
          "name": "stdout"
        },
        {
          "output_type": "stream",
          "text": [
            "/usr/local/lib/python3.7/dist-packages/ipykernel_launcher.py:96: RuntimeWarning: Mean of empty slice\n",
            "/usr/local/lib/python3.7/dist-packages/ipykernel_launcher.py:97: RuntimeWarning: Mean of empty slice\n"
          ],
          "name": "stderr"
        },
        {
          "output_type": "stream",
          "text": [
            "Loss: 0.9148 | dice: 0.7085 | dice_neg: 0.8592 | dice_pos: 0.5158 | IoU: 0.4064\n",
            "Loss: 1.2452 | dice: 0.6500 | dice_neg: 0.8124 | dice_pos: 0.4214 | IoU: 0.3238\n",
            "\n"
          ],
          "name": "stdout"
        },
        {
          "output_type": "stream",
          "text": [
            "/usr/local/lib/python3.7/dist-packages/ipykernel_launcher.py:96: RuntimeWarning: Mean of empty slice\n",
            "/usr/local/lib/python3.7/dist-packages/ipykernel_launcher.py:97: RuntimeWarning: Mean of empty slice\n"
          ],
          "name": "stderr"
        },
        {
          "output_type": "stream",
          "text": [
            "Loss: 0.8871 | dice: 0.7136 | dice_neg: 0.8772 | dice_pos: 0.5084 | IoU: 0.3986\n",
            "Loss: 1.4046 | dice: 0.6680 | dice_neg: 0.8232 | dice_pos: 0.4357 | IoU: 0.3526\n",
            "\n"
          ],
          "name": "stdout"
        },
        {
          "output_type": "stream",
          "text": [
            "/usr/local/lib/python3.7/dist-packages/ipykernel_launcher.py:96: RuntimeWarning: Mean of empty slice\n",
            "/usr/local/lib/python3.7/dist-packages/ipykernel_launcher.py:97: RuntimeWarning: Mean of empty slice\n"
          ],
          "name": "stderr"
        },
        {
          "output_type": "stream",
          "text": [
            "Loss: 0.9579 | dice: 0.6991 | dice_neg: 0.8616 | dice_pos: 0.4847 | IoU: 0.3787\n",
            "Loss: 1.2021 | dice: 0.6335 | dice_neg: 0.7940 | dice_pos: 0.4171 | IoU: 0.3133\n",
            "\n"
          ],
          "name": "stdout"
        },
        {
          "output_type": "stream",
          "text": [
            "/usr/local/lib/python3.7/dist-packages/ipykernel_launcher.py:96: RuntimeWarning: Mean of empty slice\n",
            "/usr/local/lib/python3.7/dist-packages/ipykernel_launcher.py:97: RuntimeWarning: Mean of empty slice\n"
          ],
          "name": "stderr"
        },
        {
          "output_type": "stream",
          "text": [
            "Loss: 1.0620 | dice: 0.6614 | dice_neg: 0.8131 | dice_pos: 0.4738 | IoU: 0.3673\n",
            "Loss: 1.3226 | dice: 0.6899 | dice_neg: 0.8917 | dice_pos: 0.4073 | IoU: 0.3180\n",
            "\n"
          ],
          "name": "stdout"
        },
        {
          "output_type": "stream",
          "text": [
            "/usr/local/lib/python3.7/dist-packages/ipykernel_launcher.py:96: RuntimeWarning: Mean of empty slice\n",
            "/usr/local/lib/python3.7/dist-packages/ipykernel_launcher.py:97: RuntimeWarning: Mean of empty slice\n"
          ],
          "name": "stderr"
        },
        {
          "output_type": "stream",
          "text": [
            "Loss: 0.9037 | dice: 0.6861 | dice_neg: 0.8360 | dice_pos: 0.4988 | IoU: 0.3894\n",
            "Loss: 1.3129 | dice: 0.6843 | dice_neg: 0.8797 | dice_pos: 0.4051 | IoU: 0.3215\n",
            "\n"
          ],
          "name": "stdout"
        },
        {
          "output_type": "stream",
          "text": [
            "/usr/local/lib/python3.7/dist-packages/ipykernel_launcher.py:96: RuntimeWarning: Mean of empty slice\n",
            "/usr/local/lib/python3.7/dist-packages/ipykernel_launcher.py:97: RuntimeWarning: Mean of empty slice\n"
          ],
          "name": "stderr"
        },
        {
          "output_type": "stream",
          "text": [
            "Loss: 0.9996 | dice: 0.6645 | dice_neg: 0.8076 | dice_pos: 0.4929 | IoU: 0.3861\n",
            "Loss: 1.3422 | dice: 0.6567 | dice_neg: 0.8210 | dice_pos: 0.4146 | IoU: 0.3214\n",
            "\n"
          ],
          "name": "stdout"
        },
        {
          "output_type": "stream",
          "text": [
            "/usr/local/lib/python3.7/dist-packages/ipykernel_launcher.py:96: RuntimeWarning: Mean of empty slice\n",
            "/usr/local/lib/python3.7/dist-packages/ipykernel_launcher.py:97: RuntimeWarning: Mean of empty slice\n"
          ],
          "name": "stderr"
        },
        {
          "output_type": "stream",
          "text": [
            "Loss: 0.9332 | dice: 0.7118 | dice_neg: 0.8781 | dice_pos: 0.4981 | IoU: 0.3885\n",
            "Loss: 1.3039 | dice: 0.6819 | dice_neg: 0.8678 | dice_pos: 0.4154 | IoU: 0.3216\n",
            "\n"
          ],
          "name": "stdout"
        },
        {
          "output_type": "stream",
          "text": [
            "/usr/local/lib/python3.7/dist-packages/ipykernel_launcher.py:96: RuntimeWarning: Mean of empty slice\n",
            "/usr/local/lib/python3.7/dist-packages/ipykernel_launcher.py:97: RuntimeWarning: Mean of empty slice\n"
          ],
          "name": "stderr"
        },
        {
          "output_type": "stream",
          "text": [
            "Loss: 1.0004 | dice: 0.7188 | dice_neg: 0.8888 | dice_pos: 0.4949 | IoU: 0.3933\n",
            "Loss: 1.4231 | dice: 0.6859 | dice_neg: 0.9153 | dice_pos: 0.3718 | IoU: 0.2928\n",
            "\n"
          ],
          "name": "stdout"
        },
        {
          "output_type": "stream",
          "text": [
            "/usr/local/lib/python3.7/dist-packages/ipykernel_launcher.py:96: RuntimeWarning: Mean of empty slice\n",
            "/usr/local/lib/python3.7/dist-packages/ipykernel_launcher.py:97: RuntimeWarning: Mean of empty slice\n"
          ],
          "name": "stderr"
        },
        {
          "output_type": "stream",
          "text": [
            "Loss: 1.0396 | dice: 0.7101 | dice_neg: 0.8692 | dice_pos: 0.4949 | IoU: 0.3900\n",
            "Loss: 1.3176 | dice: 0.6858 | dice_neg: 0.8746 | dice_pos: 0.4093 | IoU: 0.3202\n",
            "\n"
          ],
          "name": "stdout"
        },
        {
          "output_type": "stream",
          "text": [
            "/usr/local/lib/python3.7/dist-packages/ipykernel_launcher.py:96: RuntimeWarning: Mean of empty slice\n",
            "/usr/local/lib/python3.7/dist-packages/ipykernel_launcher.py:97: RuntimeWarning: Mean of empty slice\n"
          ],
          "name": "stderr"
        },
        {
          "output_type": "stream",
          "text": [
            "Loss: 1.0241 | dice: 0.7060 | dice_neg: 0.8644 | dice_pos: 0.4904 | IoU: 0.3887\n",
            "Loss: 1.2634 | dice: 0.6736 | dice_neg: 0.8403 | dice_pos: 0.4526 | IoU: 0.3547\n",
            "\n"
          ],
          "name": "stdout"
        },
        {
          "output_type": "stream",
          "text": [
            "/usr/local/lib/python3.7/dist-packages/ipykernel_launcher.py:96: RuntimeWarning: Mean of empty slice\n",
            "/usr/local/lib/python3.7/dist-packages/ipykernel_launcher.py:97: RuntimeWarning: Mean of empty slice\n"
          ],
          "name": "stderr"
        },
        {
          "output_type": "stream",
          "text": [
            "Loss: 1.0461 | dice: 0.6392 | dice_neg: 0.7575 | dice_pos: 0.4903 | IoU: 0.3798\n",
            "Loss: 1.3908 | dice: 0.5671 | dice_neg: 0.6460 | dice_pos: 0.4391 | IoU: 0.3437\n",
            "\n"
          ],
          "name": "stdout"
        },
        {
          "output_type": "stream",
          "text": [
            "/usr/local/lib/python3.7/dist-packages/ipykernel_launcher.py:96: RuntimeWarning: Mean of empty slice\n",
            "/usr/local/lib/python3.7/dist-packages/ipykernel_launcher.py:97: RuntimeWarning: Mean of empty slice\n"
          ],
          "name": "stderr"
        },
        {
          "output_type": "stream",
          "text": [
            "Loss: 1.0077 | dice: 0.6733 | dice_neg: 0.8222 | dice_pos: 0.4908 | IoU: 0.3845\n",
            "Loss: 1.3115 | dice: 0.6618 | dice_neg: 0.8466 | dice_pos: 0.3997 | IoU: 0.3165\n",
            "\n"
          ],
          "name": "stdout"
        },
        {
          "output_type": "stream",
          "text": [
            "/usr/local/lib/python3.7/dist-packages/ipykernel_launcher.py:96: RuntimeWarning: Mean of empty slice\n",
            "/usr/local/lib/python3.7/dist-packages/ipykernel_launcher.py:97: RuntimeWarning: Mean of empty slice\n"
          ],
          "name": "stderr"
        },
        {
          "output_type": "stream",
          "text": [
            "Loss: 0.9130 | dice: 0.7028 | dice_neg: 0.8569 | dice_pos: 0.5118 | IoU: 0.4000\n",
            "Loss: 1.2468 | dice: 0.6275 | dice_neg: 0.7583 | dice_pos: 0.4233 | IoU: 0.3285\n",
            "\n"
          ],
          "name": "stdout"
        },
        {
          "output_type": "stream",
          "text": [
            "/usr/local/lib/python3.7/dist-packages/ipykernel_launcher.py:96: RuntimeWarning: Mean of empty slice\n",
            "/usr/local/lib/python3.7/dist-packages/ipykernel_launcher.py:97: RuntimeWarning: Mean of empty slice\n"
          ],
          "name": "stderr"
        },
        {
          "output_type": "stream",
          "text": [
            "Loss: 0.9958 | dice: 0.7032 | dice_neg: 0.8605 | dice_pos: 0.4986 | IoU: 0.3922\n",
            "Loss: 1.3064 | dice: 0.6493 | dice_neg: 0.8053 | dice_pos: 0.4156 | IoU: 0.3171\n",
            "\n"
          ],
          "name": "stdout"
        },
        {
          "output_type": "stream",
          "text": [
            "/usr/local/lib/python3.7/dist-packages/ipykernel_launcher.py:96: RuntimeWarning: Mean of empty slice\n",
            "/usr/local/lib/python3.7/dist-packages/ipykernel_launcher.py:97: RuntimeWarning: Mean of empty slice\n"
          ],
          "name": "stderr"
        },
        {
          "output_type": "stream",
          "text": [
            "Loss: 0.9628 | dice: 0.6925 | dice_neg: 0.8471 | dice_pos: 0.5056 | IoU: 0.3952\n",
            "Loss: 1.4061 | dice: 0.6719 | dice_neg: 0.8815 | dice_pos: 0.3824 | IoU: 0.2976\n",
            "\n"
          ],
          "name": "stdout"
        },
        {
          "output_type": "stream",
          "text": [
            "/usr/local/lib/python3.7/dist-packages/ipykernel_launcher.py:96: RuntimeWarning: Mean of empty slice\n",
            "/usr/local/lib/python3.7/dist-packages/ipykernel_launcher.py:97: RuntimeWarning: Mean of empty slice\n"
          ],
          "name": "stderr"
        },
        {
          "output_type": "stream",
          "text": [
            "Loss: 0.9158 | dice: 0.7345 | dice_neg: 0.9038 | dice_pos: 0.5090 | IoU: 0.4017\n",
            "Loss: 1.1821 | dice: 0.6834 | dice_neg: 0.8508 | dice_pos: 0.4339 | IoU: 0.3401\n",
            "\n"
          ],
          "name": "stdout"
        },
        {
          "output_type": "stream",
          "text": [
            "/usr/local/lib/python3.7/dist-packages/ipykernel_launcher.py:96: RuntimeWarning: Mean of empty slice\n",
            "/usr/local/lib/python3.7/dist-packages/ipykernel_launcher.py:97: RuntimeWarning: Mean of empty slice\n"
          ],
          "name": "stderr"
        },
        {
          "output_type": "stream",
          "text": [
            "Loss: 0.8211 | dice: 0.7331 | dice_neg: 0.8964 | dice_pos: 0.5261 | IoU: 0.4129\n",
            "Loss: 1.2957 | dice: 0.6678 | dice_neg: 0.8223 | dice_pos: 0.4439 | IoU: 0.3446\n",
            "\n"
          ],
          "name": "stdout"
        },
        {
          "output_type": "stream",
          "text": [
            "/usr/local/lib/python3.7/dist-packages/ipykernel_launcher.py:96: RuntimeWarning: Mean of empty slice\n",
            "/usr/local/lib/python3.7/dist-packages/ipykernel_launcher.py:97: RuntimeWarning: Mean of empty slice\n"
          ],
          "name": "stderr"
        },
        {
          "output_type": "stream",
          "text": [
            "Loss: 0.7952 | dice: 0.7427 | dice_neg: 0.9070 | dice_pos: 0.5371 | IoU: 0.4218\n",
            "Loss: 1.3164 | dice: 0.6924 | dice_neg: 0.8841 | dice_pos: 0.4147 | IoU: 0.3235\n",
            "\n"
          ],
          "name": "stdout"
        },
        {
          "output_type": "stream",
          "text": [
            "/usr/local/lib/python3.7/dist-packages/ipykernel_launcher.py:96: RuntimeWarning: Mean of empty slice\n",
            "/usr/local/lib/python3.7/dist-packages/ipykernel_launcher.py:97: RuntimeWarning: Mean of empty slice\n"
          ],
          "name": "stderr"
        },
        {
          "output_type": "stream",
          "text": [
            "Loss: 0.9625 | dice: 0.7152 | dice_neg: 0.8748 | dice_pos: 0.5128 | IoU: 0.4066\n",
            "Loss: 1.5303 | dice: 0.6862 | dice_neg: 0.9324 | dice_pos: 0.3308 | IoU: 0.2641\n",
            "\n"
          ],
          "name": "stdout"
        },
        {
          "output_type": "stream",
          "text": [
            "/usr/local/lib/python3.7/dist-packages/ipykernel_launcher.py:96: RuntimeWarning: Mean of empty slice\n",
            "/usr/local/lib/python3.7/dist-packages/ipykernel_launcher.py:97: RuntimeWarning: Mean of empty slice\n"
          ],
          "name": "stderr"
        },
        {
          "output_type": "stream",
          "text": [
            "Loss: 0.9064 | dice: 0.7123 | dice_neg: 0.8733 | dice_pos: 0.5109 | IoU: 0.4020\n",
            "Loss: 1.4152 | dice: 0.7004 | dice_neg: 0.9021 | dice_pos: 0.4121 | IoU: 0.3214\n",
            "\n"
          ],
          "name": "stdout"
        },
        {
          "output_type": "stream",
          "text": [
            "/usr/local/lib/python3.7/dist-packages/ipykernel_launcher.py:96: RuntimeWarning: Mean of empty slice\n",
            "/usr/local/lib/python3.7/dist-packages/ipykernel_launcher.py:97: RuntimeWarning: Mean of empty slice\n"
          ],
          "name": "stderr"
        },
        {
          "output_type": "stream",
          "text": [
            "Loss: 0.8236 | dice: 0.7439 | dice_neg: 0.9064 | dice_pos: 0.5332 | IoU: 0.4196\n",
            "Loss: 1.2658 | dice: 0.6873 | dice_neg: 0.8905 | dice_pos: 0.4000 | IoU: 0.3126\n",
            "\n"
          ],
          "name": "stdout"
        },
        {
          "output_type": "stream",
          "text": [
            "/usr/local/lib/python3.7/dist-packages/ipykernel_launcher.py:96: RuntimeWarning: Mean of empty slice\n",
            "/usr/local/lib/python3.7/dist-packages/ipykernel_launcher.py:97: RuntimeWarning: Mean of empty slice\n"
          ],
          "name": "stderr"
        },
        {
          "output_type": "stream",
          "text": [
            "Loss: 0.8307 | dice: 0.7291 | dice_neg: 0.8886 | dice_pos: 0.5276 | IoU: 0.4169\n",
            "Loss: 1.1833 | dice: 0.6799 | dice_neg: 0.8533 | dice_pos: 0.4292 | IoU: 0.3384\n",
            "\n"
          ],
          "name": "stdout"
        }
      ]
    },
    {
      "cell_type": "code",
      "metadata": {
        "id": "1C_gpWj3wezx",
        "colab": {
          "base_uri": "https://localhost:8080/",
          "height": 282
        },
        "outputId": "232827d2-d8de-497e-ec9f-d180c8a11b05"
      },
      "source": [
        "import matplotlib.pyplot as plt\n",
        "import numpy as np\n",
        "plt.plot(np.arange(100).tolist(), losses[\"train\"], 'ro-', label='line 1', linewidth=1)"
      ],
      "execution_count": null,
      "outputs": [
        {
          "output_type": "execute_result",
          "data": {
            "text/plain": [
              "[<matplotlib.lines.Line2D at 0x7f5ef36ce790>]"
            ]
          },
          "metadata": {
            "tags": []
          },
          "execution_count": 30
        },
        {
          "output_type": "display_data",
          "data": {
            "image/png": "[encoded data removed]",
            "text/plain": [
              "<Figure size 432x288 with 1 Axes>"
            ]
          },
          "metadata": {
            "tags": [],
            "needs_background": "light"
          }
        }
      ]
    },
    {
      "cell_type": "code",
      "metadata": {
        "colab": {
          "base_uri": "https://localhost:8080/",
          "height": 282
        },
        "id": "lH3RYZTK8mx8",
        "outputId": "61391be9-af41-4d08-fad4-de207879b1bd"
      },
      "source": [
        "plt.plot(np.arange(100).tolist(), losses[\"val\"], 'go-', label='line 1', linewidth=1)"
      ],
      "execution_count": null,
      "outputs": [
        {
          "output_type": "execute_result",
          "data": {
            "text/plain": [
              "[<matplotlib.lines.Line2D at 0x7f5ef36b0c50>]"
            ]
          },
          "metadata": {
            "tags": []
          },
          "execution_count": 31
        },
        {
          "output_type": "display_data",
          "data": {
            "image/png": "[encoded data removed]",
            "text/plain": [
              "<Figure size 432x288 with 1 Axes>"
            ]
          },
          "metadata": {
            "tags": [],
            "needs_background": "light"
          }
        }
      ]
    },
    {
      "cell_type": "code",
      "metadata": {
        "id": "QXIjseE9FMxD"
      },
      "source": [
        "import torch\n",
        "import os\n",
        "import numpy as np \n",
        "import pandas as pd \n",
        "import pydicom, cv2\n",
        "from glob import glob\n",
        "from tqdm import tqdm\n",
        "import matplotlib.pyplot as plt\n",
        "import albumentations as A\n",
        "from sklearn.model_selection import StratifiedKFold\n",
        "from torch.utils.data import Dataset, DataLoader\n",
        "from albumentations.pytorch import ToTensor\n",
        "import torchvision\n",
        "import torch.nn as nn\n",
        "import torch.optim as optim"
      ],
      "execution_count": null,
      "outputs": []
    },
    {
      "cell_type": "code",
      "metadata": {
        "id": "7alcP2Kw8wBH"
      },
      "source": [
        "class TestDataset(Dataset):\n",
        "    def __init__(self, root, df, size, mean, std, tta=4):\n",
        "        self.root = root\n",
        "        self.size = size\n",
        "        self.fnames = list(df[\"ImageId\"])\n",
        "        self.num_samples = len(self.fnames)\n",
        "        self.transform = A.Compose(\n",
        "            [\n",
        "                A.Normalize(mean = mean, std = std, p = 1),\n",
        "                A.Resize(size, size),\n",
        "                ToTensor()\n",
        "            ]\n",
        "        )\n",
        "\n",
        "    def __getitem__(self, idx):\n",
        "        fname = self.fnames[idx]\n",
        "        path = os.path.join(self.root, fname + \".dcm\")\n",
        "        ds = pydicom.dcmread(path)\n",
        "        image = ds.pixel_array\n",
        "        image = np.stack((image, ) * 3, axis=-1)\n",
        "        images = self.transform(image = image)[\"image\"]\n",
        "        return images\n",
        "\n",
        "    def __len__(self):\n",
        "        return self.num_samples"
      ],
      "execution_count": null,
      "outputs": []
    },
    {
      "cell_type": "code",
      "metadata": {
        "id": "S6Qn8l6wCmoZ"
      },
      "source": [
        "def post_process(probability, threshold, min_size):\n",
        "    mask = cv2.threshold(probability, threshold, 1, cv2.THRESH_BINARY)[1]\n",
        "    num_component, component = cv2.connectedComponents(mask.astype(np.uint8))\n",
        "    predictions = np.zeros((1024, 1024), np.float32)\n",
        "    num = 0\n",
        "    for c in range(1, num_component):\n",
        "        p = (component == c)\n",
        "        if p.sum() > min_size:\n",
        "            predictions[p] = 1\n",
        "            num += 1\n",
        "    return predictions, num"
      ],
      "execution_count": null,
      "outputs": []
    },
    {
      "cell_type": "code",
      "metadata": {
        "id": "jYnAu_CjJ0Oh"
      },
      "source": [
        "def run_length_encode(component):\n",
        "    component = component.T.flatten()\n",
        "    start = np.where(component[1:] > component[:-1])[0]+1\n",
        "    end = np.where(component[:-1] > component[1:])[0]+1\n",
        "    length = end-start\n",
        "    rle = []\n",
        "    for i in range(len(length)):\n",
        "        if i == 0:\n",
        "            rle.extend([start[0], length[0]])\n",
        "        else:\n",
        "            rle.extend([start[i]-end[i-1], length[i]])\n",
        "    rle = ' '.join([str(r) for r in rle])\n",
        "    return rle"
      ],
      "execution_count": null,
      "outputs": []
    },
    {
      "cell_type": "code",
      "metadata": {
        "colab": {
          "base_uri": "https://localhost:8080/"
        },
        "id": "8NARiYgP9TCg",
        "outputId": "69aad844-1539-4b26-dbc8-3092917d00bc"
      },
      "source": [
        "model = UNetWithResnet50Encoder()\n",
        "size = 512\n",
        "mean = (0.485, 0.456, 0.406)\n",
        "std = (0.229, 0.224, 0.225)\n",
        "num_workers = 8\n",
        "batch_size = 16\n",
        "best_threshold = 0.5\n",
        "min_size = 3500\n",
        "device = torch.device(\"cpu\")\n",
        "df = pd.read_csv(\"./stage_2_sample_submission.csv\")\n",
        "model.to(device)\n",
        "testset = DataLoader(\n",
        "    TestDataset(\"stage_2_images\", df, size, mean, std),\n",
        "    batch_size = batch_size,\n",
        "    shuffle = False,\n",
        "    num_workers = num_workers,\n",
        "    pin_memory = True,\n",
        ")\n",
        "model.eval()\n",
        "state = torch.load('./model_v3.pth', map_location = lambda storage, loc: storage)\n",
        "model.load_state_dict(state[\"state_dict\"])\n",
        "encoded_pixels = []\n",
        "\n",
        "for i, batch in enumerate(tqdm(testset)):\n",
        "    preds = torch.sigmoid(model(batch.to(device)))\n",
        "    preds = preds.detach().cpu().numpy()[:, 0, :, :] # (batch_size, 1, size, size) -> (batch_size, size, size)\n",
        "    for probability in preds:\n",
        "        if probability.shape != (1024, 1024):\n",
        "            probability = cv2.resize(probability, dsize=(1024, 1024), interpolation=cv2.INTER_LINEAR)\n",
        "        predict, num_predict = post_process(probability, best_threshold, min_size)\n",
        "        if num_predict == 0:\n",
        "            encoded_pixels.append('-1')\n",
        "        else:\n",
        "            r = run_length_encode(predict)\n",
        "            encoded_pixels.append(r)\n",
        "df['EncodedPixels'] = encoded_pixels\n",
        "df.to_csv('submission_v1.csv', columns=['ImageId', 'EncodedPixels'], index=False)"
      ],
      "execution_count": null,
      "outputs": [
        {
          "output_type": "stream",
          "text": [
            "/usr/local/lib/python3.7/dist-packages/torch/utils/data/dataloader.py:477: UserWarning: This DataLoader will create 8 worker processes in total. Our suggested max number of worker in current system is 4, which is smaller than what this DataLoader is going to create. Please be aware that excessive worker creation might get DataLoader running slow or even freeze, lower the worker number to avoid potential slowness/freeze if necessary.\n",
            "  cpuset_checked))\n",
            "  0%|          | 0/201 [00:00<?, ?it/s]"
          ],
          "name": "stderr"
        }
      ]
    }
  ]
}