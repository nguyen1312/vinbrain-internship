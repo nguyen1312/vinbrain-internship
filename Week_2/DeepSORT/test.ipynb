{
 "metadata": {
  "language_info": {
   "codemirror_mode": {
    "name": "ipython",
    "version": 3
   },
   "file_extension": ".py",
   "mimetype": "text/x-python",
   "name": "python",
   "nbconvert_exporter": "python",
   "pygments_lexer": "ipython3",
   "version": "3.7.5"
  },
  "orig_nbformat": 2,
  "kernelspec": {
   "name": "python3",
   "display_name": "Python 3.7.5 64-bit",
   "metadata": {
    "interpreter": {
     "hash": "31f2aee4e71d21fbe5cf8b01ff0e069b9275f58929596ceb00d14d90e3e16cd6"
    }
   }
  }
 },
 "nbformat": 4,
 "nbformat_minor": 2,
 "cells": [
  {
   "cell_type": "code",
   "execution_count": 12,
   "metadata": {},
   "outputs": [],
   "source": [
    "def _pdist(a, b):\n",
    "    a = np.asarray(a) \n",
    "    b = np.asarray(b)\n",
    "    if len(a) == 0 or len(b) == 0:\n",
    "        return np.zeros((len(a), len(b)))\n",
    "    a2 = np.square(a).sum(axis=1) \n",
    "    b2 = np.square(b).sum(axis=1) \n",
    "    r2 = -2. * np.dot(a, b.T) + a2[:, None] + b2[None, :]\n",
    "    print(r2)\n",
    "    r2 = np.clip(r2, 0., float(np.inf))\n",
    "    return r2"
   ]
  },
  {
   "cell_type": "code",
   "execution_count": 10,
   "metadata": {},
   "outputs": [],
   "source": [
    "import numpy as np"
   ]
  },
  {
   "cell_type": "code",
   "execution_count": 15,
   "metadata": {},
   "outputs": [
    {
     "output_type": "stream",
     "name": "stdout",
     "text": [
      "[[14 50]]\n[ 50 230 110]\n[[ 12. 152.  48.]\n [  0. 100.  12.]]\n"
     ]
    },
    {
     "output_type": "execute_result",
     "data": {
      "text/plain": [
       "array([  0., 100.,  12.])"
      ]
     },
     "metadata": {},
     "execution_count": 15
    }
   ],
   "source": [
    "distances = _pdist(np.array([[1, 2, 3], [3, 4, 5]]), np.array([[3, 4, 5], [3, 14, 5], [5, 6, 7]]))\n",
    "np.maximum(0.0, distances.min(axis = 0))"
   ]
  },
  {
   "cell_type": "code",
   "execution_count": 16,
   "metadata": {},
   "outputs": [
    {
     "output_type": "execute_result",
     "data": {
      "text/plain": [
       "array([ 6, 60])"
      ]
     },
     "metadata": {},
     "execution_count": 16
    }
   ],
   "source": [
    "a = np.array([[1, 2, 3], [3, 4, 5]])\n",
    "a.prod(axis=1)"
   ]
  }
 ]
}